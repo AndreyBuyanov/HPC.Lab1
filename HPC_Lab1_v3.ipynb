{
  "nbformat": 4,
  "nbformat_minor": 0,
  "metadata": {
    "colab": {
      "name": "HPC.Lab1.v3.ipynb",
      "provenance": [],
      "collapsed_sections": [],
      "authorship_tag": "ABX9TyM0QoVZxHfR1eZX7fgrKmYk",
      "include_colab_link": true
    },
    "kernelspec": {
      "name": "python3",
      "display_name": "Python 3"
    }
  },
  "cells": [
    {
      "cell_type": "markdown",
      "metadata": {
        "id": "view-in-github",
        "colab_type": "text"
      },
      "source": [
        "<a href=\"https://colab.research.google.com/github/AndreyBuyanov/HPC.Lab1/blob/main/HPC_Lab1_v3.ipynb\" target=\"_parent\"><img src=\"https://colab.research.google.com/assets/colab-badge.svg\" alt=\"Open In Colab\"/></a>"
      ]
    },
    {
      "cell_type": "code",
      "metadata": {
        "colab": {
          "base_uri": "https://localhost:8080/"
        },
        "id": "YZQI8Gk4l_Aj",
        "outputId": "0c429560-2084-4873-c2ef-14172e8bd634"
      },
      "source": [
        "from google.colab import drive\n",
        "drive.mount('/content/drive')"
      ],
      "execution_count": null,
      "outputs": [
        {
          "output_type": "stream",
          "text": [
            "Mounted at /content/drive\n"
          ],
          "name": "stdout"
        }
      ]
    },
    {
      "cell_type": "code",
      "metadata": {
        "id": "murp23ZOmNTl"
      },
      "source": [
        "!apt-get install openjdk-11-jdk-headless -qq > /dev/null"
      ],
      "execution_count": null,
      "outputs": []
    },
    {
      "cell_type": "code",
      "metadata": {
        "id": "uCWVDy1qmOdd"
      },
      "source": [
        "import os\n",
        "os.environ['APACHE_SPARK_DISTR_NAME'] = 'spark-3.0.2-bin-hadoop2.7'\n",
        "os.environ['APACHE_SPARK_URL'] = 'https://downloads.apache.org/spark/spark-3.0.2/spark-3.0.2-bin-hadoop2.7.tgz'"
      ],
      "execution_count": null,
      "outputs": []
    },
    {
      "cell_type": "code",
      "metadata": {
        "id": "pL6Lr2mumY3l"
      },
      "source": [
        "![ ! -d $APACHE_SPARK_DISTR_NAME ] \\\n",
        "   && wget -q $APACHE_SPARK_URL \\\n",
        "   && tar xf $APACHE_SPARK_DISTR_NAME.tgz \\\n",
        "   && rm -f $APACHE_SPARK_DISTR_NAME.tgz"
      ],
      "execution_count": null,
      "outputs": []
    },
    {
      "cell_type": "code",
      "metadata": {
        "id": "or5hT4m1maXF"
      },
      "source": [
        "os.environ['JAVA_HOME'] = '/usr/lib/jvm/java-11-openjdk-amd64'\n",
        "os.environ['SPARK_HOME'] = '/content/spark-3.0.2-bin-hadoop2.7'"
      ],
      "execution_count": null,
      "outputs": []
    },
    {
      "cell_type": "code",
      "metadata": {
        "colab": {
          "base_uri": "https://localhost:8080/"
        },
        "id": "iWXAT_ILmb_W",
        "outputId": "0cc6fad4-416b-42fe-82a1-68324ea29bd0"
      },
      "source": [
        "!pip install findspark"
      ],
      "execution_count": null,
      "outputs": [
        {
          "output_type": "stream",
          "text": [
            "Collecting findspark\n",
            "  Downloading https://files.pythonhosted.org/packages/fc/2d/2e39f9a023479ea798eed4351cd66f163ce61e00c717e03c37109f00c0f2/findspark-1.4.2-py2.py3-none-any.whl\n",
            "Installing collected packages: findspark\n",
            "Successfully installed findspark-1.4.2\n"
          ],
          "name": "stdout"
        }
      ]
    },
    {
      "cell_type": "code",
      "metadata": {
        "id": "3n6BEejPmdrV"
      },
      "source": [
        "import findspark\n",
        "findspark.init()"
      ],
      "execution_count": null,
      "outputs": []
    },
    {
      "cell_type": "code",
      "metadata": {
        "id": "gseFhYlrmfRl"
      },
      "source": [
        "from pyspark.sql import SparkSession"
      ],
      "execution_count": null,
      "outputs": []
    },
    {
      "cell_type": "code",
      "metadata": {
        "id": "3OT2erHbmg2F"
      },
      "source": [
        "spark = SparkSession.builder.master('local').appName(\"HPC.Lab1\").getOrCreate()"
      ],
      "execution_count": null,
      "outputs": []
    },
    {
      "cell_type": "code",
      "metadata": {
        "colab": {
          "base_uri": "https://localhost:8080/"
        },
        "id": "mwNc4SQKmij-",
        "outputId": "1a158010-10dc-483f-a781-0830dbb05dad"
      },
      "source": [
        "df = spark.read.csv(r\"./drive/My Drive/TPU/HPC/Lab1/brooklyn_sales_map.csv\", header=True)\n",
        "df.show()"
      ],
      "execution_count": null,
      "outputs": [
        {
          "output_type": "stream",
          "text": [
            "+---+--------+--------------------+-----------------------+---------+-----+----+--------+--------------+--------------------+----------------+--------+-----------------+----------------+-----------+---------+----------+----------+-----------------+----------------------+----------+----------+------------+---------+---+------+------+----------+-------+-------+--------+----------+----------+----------+---------+----------+--------+-------------------+---------+---------+---------+---------+--------+--------+-------+-------+-------+---------+---------+---------+-------+---------+---------+--------------------+-------+--------+-------+-------+----------+----------+----------+---------+----------+---------+----------+--------+---------+--------+----------+--------+--------+---------+---------+---+--------+----------+-------+--------+----------+---------+----------+---------+---------+----------+----------+--------------------+--------+--------+--------+-------+--------+--------+----------+-------+---------+-------+------+-------+------+-------+------+---------+----------+----------+----------+----------+----------+-------+----------+-------------+-------------+\n",
            "|_c0|borough1|        neighborhood|building_class_category|tax_class|block| lot|easement|building_class|            address9|apartment_number|zip_code|residential_units|commercial_units|total_units|land_sqft|gross_sqft|year_built|tax_class_at_sale|building_class_at_sale|sale_price| sale_date|year_of_sale|Borough23| CD|CT2010|CB2010|SchoolDist|Council|ZipCode|FireComp|PolicePrct|HealthCent|HealthArea|SanitBoro|SanitDistr|SanitSub|          Address37|ZoneDist1|ZoneDist2|ZoneDist3|ZoneDist4|Overlay1|Overlay2|SPDist1|SPDist2|SPDist3|LtdHeight|SplitZone|BldgClass|LandUse|Easements|OwnerType|           OwnerName|LotArea|BldgArea|ComArea|ResArea|OfficeArea|RetailArea|GarageArea|StrgeArea|FactryArea|OtherArea|AreaSource|NumBldgs|NumFloors|UnitsRes|UnitsTotal|LotFront|LotDepth|BldgFront|BldgDepth|Ext|ProxCode|IrrLotCode|LotType|BsmtCode|AssessLand|AssessTot|ExemptLand|ExemptTot|YearBuilt|YearAlter1|YearAlter2|            HistDist|Landmark|BuiltFAR|ResidFAR|CommFAR|FacilFAR|BoroCode|       BBL|CondoNo|Tract2010| XCoord|YCoord|ZoneMap|ZMCode|Sanborn|TaxMap|EDesigNum|    APPBBL|   APPDate|PLUTOMapID|FIRM07_FLA|PFIRM15_FL|Version|MAPPLUTO_F|   SHAPE_Leng|   SHAPE_Area|\n",
            "+---+--------+--------------------+-----------------------+---------+-----+----+--------+--------------+--------------------+----------------+--------+-----------------+----------------+-----------+---------+----------+----------+-----------------+----------------------+----------+----------+------------+---------+---+------+------+----------+-------+-------+--------+----------+----------+----------+---------+----------+--------+-------------------+---------+---------+---------+---------+--------+--------+-------+-------+-------+---------+---------+---------+-------+---------+---------+--------------------+-------+--------+-------+-------+----------+----------+----------+---------+----------+---------+----------+--------+---------+--------+----------+--------+--------+---------+---------+---+--------+----------+-------+--------+----------+---------+----------+---------+---------+----------+----------+--------------------+--------+--------+--------+-------+--------+--------+----------+-------+---------+-------+------+-------+------+-------+------+---------+----------+----------+----------+----------+----------+-------+----------+-------------+-------------+\n",
            "|  1|       3|  DOWNTOWN-METROTECH|   28  COMMERCIAL CO...|        4|  140|1001|    null|            R5|      330 JAY STREET|           COURT|   11201|                0|               1|          1|        0|         0|      2002|                4|                    R5| 499401179|2008-04-23|        2008|       NA| NA|    NA|    NA|        NA|     NA|     NA|      NA|        NA|        NA|        NA|       NA|        NA|      NA|                 NA|       NA|       NA|       NA|       NA|      NA|      NA|     NA|     NA|     NA|       NA|       NA|       NA|     NA|       NA|       NA|                  NA|     NA|      NA|     NA|     NA|        NA|        NA|        NA|       NA|        NA|       NA|        NA|      NA|       NA|      NA|        NA|      NA|      NA|       NA|       NA| NA|      NA|        NA|     NA|      NA|        NA|       NA|        NA|       NA|       NA|        NA|        NA|                  NA|      NA|      NA|      NA|     NA|      NA|      NA|        NA|     NA|       NA|     NA|    NA|     NA|    NA|     NA|    NA|       NA|        NA|        NA|        NA|        NA|        NA|     NA|        NA|           NA|           NA|\n",
            "|  2|       3|DOWNTOWN-FULTON F...|   29  COMMERCIAL GA...|        4|   54|   1|    null|            G7|       85 JAY STREET|            null|   11201|                0|               0|          0|   134988|         0|         0|                4|                    G7|  3.45e+08|2016-12-20|        2016|       BK|302|    21|  3017|        13|     33|  11201|    L118|        84|        36|      1000|        3|        02|      1B|      87 JAY STREET|  M1-2/R8|       NA|       NA|       NA|      NA|      NA|   MX-2|     NA|     NA|       NA|        N|       G7|     10|        0|        P|85 JAY STREET BRO...| 134988|       0|      0|      0|         0|         0|         0|        0|         0|        0|         7|       0|        0|       0|         0|   490.5|  275.33|        0|        0| NA|       0|         N|      5|       5|   1571850|  1571850|   1571850|  1571850|        0|         0|         0|                  NA|      NA|       0|     7.2|      2|     6.5|       3|3000540001|      0|     0021| 988208|195011|    12d|    NA|302 016| 30101|       NA|3000540001|12/06/2002|         1|        NA|        NA| 17V1.1|         0|1559.88914353|140131.577176|\n",
            "|  3|       3|    BROOKLYN HEIGHTS|   21  OFFICE BUILDINGS|        4|  204|   1|    null|            O6| 29 COLUMBIA HEIGHTS|            null|   11201|                0|               0|          0|    32000|    304650|      1924|                4|                    O6|   3.4e+08|2016-08-03|        2016|       BK|302|     1|  1003|        13|     33|  11201|    E205|        84|        38|      2300|        3|        02|      1A|29 COLUMBIA HEIGHTS|     M2-1|       NA|       NA|       NA|      NA|      NA|     NA|     NA|     NA|       NA|        N|       O6|     05|        0|       NA|25-30 COLUMBIA HE...|  32000|  304650| 304650|      0|    264750|         0|         0|        0|         0|    39900|         2|       1|       13|       0|         0|   92.42|  335.92|      335|       92| NA|       0|         Y|      3|       5|   1548000| 25463250|         0|        0|     1924|      1980|         0|                  NA|      NA|    9.52|       0|      2|       0|       3|3002040001|      0|     0001| 985952|195007|    12d|    NA|302 004| 30106|       NA|         0|        NA|         1|        NA|        NA| 17V1.1|         0|890.718521021|34656.4472405|\n",
            "|  4|       3|          MILL BASIN|    22  STORE BUILDINGS|        4| 8470|  55|    null|            K6|       5120 AVENUE U|            null|   11234|                0|             123|        123|   905000|   2548000|      1970|                4|                    K6| 276947000|2012-11-28|        2012|       BK|318|   698|  2005|        22|     46|  11234|    E323|        63|        35|      8822|        3|        18|      4E|      5120 AVENUE U|     M3-1|       NA|       NA|       NA|      NA|      NA|     NA|     NA|     NA|       NA|        N|       K6|     05|        1|       NA|BROOKLYN KINGS PLAZA| 905000| 2548000|2548000|      0|         0|   1263000|   1285000|        0|         0|        0|         2|       4|        2|       0|       123|     930|     859|        0|        0| NA|       0|         Y|      3|       5|  36532350|149792400|         0|        0|     1970|         0|         0|                  NA|      NA|    2.82|       0|      2|       0|       3|3084700055|      0|     0698|1006597|161424|    23b|    NA|319 077| 32502|       NA|         0|        NA|         1|         1|         1| 17V1.1|         0|3729.78685686|797554.847834|\n",
            "|  5|       3|    BROOKLYN HEIGHTS|        26 OTHER HOTELS|        4|  230|   1|    null|            H8|     21 CLARK STREET|            null|   11201|                0|               1|          1|    20267|    356000|      1927|                4|                    H8| 202500000|2017-10-31|        2017|       BK|302|  3.01|  2000|        13|     33|  11201|    E205|        84|        38|      2300|        3|        02|      1A|   79 WILLOW STREET|       R6|       NA|       NA|       NA|      NA|      NA|     NA|     NA|     NA|     LH-1|        N|       H8|     08|        0|        X|WATCHTOWER C/O RE...|  20267|  356000|  30000|      0|     30000|         0|         0|        0|         0|        0|         2|       1|       15|       0|         1|     202|  100.33|      202|   100.33| NA|       0|         N|      3|       2|   2250000| 27166050|   2250000| 27166050|     1927|      1998|      2000|Brooklyn Heights ...|      NA|   17.57|    2.43|      0|     4.8|       3|3002300001|      0|   000301| 985622|193713|    12d|    NA|302 014| 30106|       NA|         0|        NA|         1|        NA|        NA| 17V1.1|         0|620.761169374|21360.1476315|\n",
            "|  6|       3|  WILLIAMSBURG-SOUTH|   31  COMMERCIAL VA...|        4| 2428|   1|    null|            V1|     329 KENT AVENUE|            null|   11249|                0|               0|          0|    57600|         0|         0|                4|                    V1| 185445000|2012-10-11|        2012|       BK|301|   551|  1009|        14|     33|  11249|    E221|        90|        30|       400|        3|        01|      2B|    325 KENT AVENUE|       R6|       NA|       NA|       NA|    C2-4|      NA|     NA|     NA|     NA|       NA|        N|       D7|     04|        0|       NA|        325 KENT LLC|  57600|  382746|  11200| 371546|      1822|      9378|         0|        0|         0|        0|         2|       1|        0|     522|       525|     180|     320|      179|      315| NA|       0|         N|      3|       5|   3110400|  5579990|         0|        0|     2015|         0|         0|                  NA|      NA|    6.64|    2.43|      0|     4.8|       3|3024280001|      0|     0551| 993500|199202|    12d|    NA|303 007| 30806|    E-337|         0|        NA|         1|        NA|        NA| 17V1.1|         0|1006.33799946|58564.8643115|\n",
            "|  7|       3|    BROOKLYN HEIGHTS|    21 OFFICE BUILDINGS|        4|  250|  44|    null|            O4|     16 COURT STREET|            null|   11241|                0|             102|        102|    12500|    290440|      1928|                4|                    O4|  1.71e+08|2017-10-10|        2017|       BK|302|     9|  1001|        13|     33|  11241|    E205|        84|        38|      2300|        3|        02|      1B|    16 COURT STREET|    C5-2A|       NA|       NA|       NA|      NA|      NA|     DB|     NA|     NA|       NA|        N|       O4|     05|        0|        P|16 COURT STREET O...|  12500|  290440| 290440|      0|    274500|     15940|         0|        0|         0|        0|         2|       1|       37|       0|       102|     100|     125|       92|      125| NA|       0|         Y|      3|       2|   2448000| 28309500|         0| 11304900|     1928|      2009|         0|Borough Hall Skys...|      NA|   23.24|      10|     10|      10|       3|3002500044|      0|     0009| 986784|191977|    12d|    NA|302 018| 30107|       NA|         0|        NA|         1|        NA|        NA| 17V1.1|         0|460.031680123| 12947.145471|\n",
            "|  8|       3|  WILLIAMSBURG-NORTH|   08  RENTALS - ELE...|        2| 2307|   1|    null|            D8|     250 N 10 STREET|            null|   11211|              234|               3|        237|    50173|    241764|      2012|                2|                    D8|  1.69e+08|2015-05-01|        2015|       BK|301|   519|  1006|        14|     33|  11211|    E229|        94|        30|       700|        3|        01|      3B|236 NORTH 10 STREET| M1-2/R6A|       NA|       NA|       NA|      NA|      NA|   MX-8|     NA|     NA|       NA|        N|       D8|     03|        0|        P|BRKLYN NY 250 N 10TH|  50173|  241764|  27900| 213864|      4200|         0|     22200|     1500|         0|        0|         2|       1|        6|     234|       237|  521.25|     200|      500|      100| NA|       1|         N|      1|       2|   1354500| 23965650|    932847| 23543997|     2012|      2012|         0|                  NA|      NA|    4.82|       3|      2|       3|       3|3023070001|      0|     0519| 997307|200618|    13a|    NA|304 018| 30804|    E-138|3023070001|10/08/2013|         1|         1|        NA| 17V1.1|         0|1385.27352839|50772.6248688|\n",
            "|  9|       3|  WILLIAMSBURG-SOUTH|   29  COMMERCIAL GA...|        4| 2128|   5|    null|            G7|     418 KENT AVENUE|            null|   11249|                0|               0|          0|    44704|         0|         0|                4|                    G7|  1.65e+08|2015-02-04|        2015|       BK|301|   549|  2006|        14|     33|  11249|    E221|        90|        30|       500|        3|        01|      4A|    418 KENT AVENUE|     R7-3|     C4-3|       NA|       NA|    C2-4|      NA|     NA|     NA|     NA|       NA|        Y|       D1|     03|        0|       NA| 420 KENT AVENUE LLC|  44704|  463427|   4884| 458543|         0|      4884|         0|        0|         0|        0|         2|       2|       20|     470|       472|  225.08|  281.86|        0|        0| NA|       0|         Y|      5|       5|   1699200|  3534300|         0|        0|     2016|         0|         0|                  NA|      NA|   10.37|       5|      0|       5|       3|3021280005|      0|     0549| 992807|198027|    12d|    NA|303 006| 30801|     R-47|3021280005|10/29/2014|         1|         1|         1| 17V1.1|         0|992.915660585|47019.5677861|\n",
            "| 10|       3|           NAVY YARD|         30  WAREHOUSES|        4| 1876|   1|    null|            E9|        9-47 HALL ST|            null|   11205|                0|               1|          1|   113800|    547000|      1912|                4|                    E9|  1.61e+08|2016-03-04|        2016|       BK|302|   543|  2003|        14|     35|  11205|    L119|        88|        36|      9300|        3|        02|      4E|     39 HALL STREET|     M1-2|       NA|       NA|       NA|      NA|      NA|     NA|     NA|     NA|       NA|        N|       E9|     06|        0|        P|RXR 9-47 HALL STREET| 113800|  547000| 547000|      0|         0|         0|         0|        0|    547000|        0|         2|      13|        8|       0|         1|     569|     204|      304|    80.92| NA|       0|         Y|      3|       5|   1282500| 11295000|         0|        0|     1912|         0|         0|                  NA|      NA|    4.81|       0|      2|     4.8|       3|3018760001|      0|     0543| 993650|193137|    12d|    NA|302 049| 30701|       NA|         0|        NA|         1|        NA|        NA| 17V1.1|         0|1565.91477261|118754.785737|\n",
            "| 11|       3|  WILLIAMSBURG-NORTH|   41 TAX CLASS 4 - ...|        4| 2287|  16|    null|            Z9|  20 NORTH 12 STREET|            null|   11249|                0|               0|          0|    60400|         0|         0|                4|                    Z9|   1.6e+08|2017-04-19|        2017|       BK|301|   557|  2001|        14|     33|  11249|    L106|        94|        30|       400|        3|        01|      NA| 20 NORTH 12 STREET|     M3-1|       NA|       NA|       NA|      NA|      NA|     NA|     NA|     NA|       NA|        N|       Z9|     NA|        0|        P|     10TH STREET LLC|  60400|       0|      0|      0|         0|         0|         0|        0|         0|        0|         7|       1|        0|       0|         0|     302|     200|        0|        0| NA|       0|         N|      5|       5|    504900|   504900|         0|        0|        0|         0|         0|                  NA|      NA|       0|       0|      2|       0|       3|3022870016|      0|     0557| 995151|202986|    12c|    NA|304 003| 30804|    E-138|         0|        NA|         1|         1|         1| 17V1.1|         0|1031.12366578|63814.7107802|\n",
            "| 12|       3|         FORT GREENE|   31  COMMERCIAL VA...|        4| 2094|   1|    null|            V1|          625 FULTON|            null|   11217|                0|               0|          0|    62472|         0|         0|                4|                    V1|  1.58e+08|2016-01-13|        2016|       BK|302|    33|  2003|        13|     35|  11201|    E226|        88|        36|      1200|        3|        02|      1B|  625 FULTON STREET|     C6-4|       NA|       NA|       NA|      NA|      NA|     DB|     NA|     NA|       NA|        N|       V1|     11|        0|        P|    625 FULTON A LLC|  62472|       0|      0|      0|         0|         0|         0|        0|         0|        0|         4|       0|        0|       0|         0|      83|     307|        0|        0| NA|       0|         Y|      5|       5|   2811420|  2811420|         0|        0|        0|         0|         0|                  NA|      NA|       0|      10|     10|      10|       3|3020940001|      0|     0033| 989829|190359|    16c|    NA|302 026| 30706|       NA|3020940001|01/03/2008|         1|        NA|        NA| 17V1.1|         0|1056.81154834|63393.1018337|\n",
            "| 13|       3|DOWNTOWN-FULTON MALL|      11A CONDO-RENTALS|        2|  165|1001|    null|            RR|236 LIVINGSTON ST...|            LIHU|   11201|                8|               3|         11|    18175|      5802|      2009|                2|                    RR| 154250000|2016-12-15|        2016|       NA| NA|    NA|    NA|        NA|     NA|     NA|      NA|        NA|        NA|        NA|       NA|        NA|      NA|                 NA|       NA|       NA|       NA|       NA|      NA|      NA|     NA|     NA|     NA|       NA|       NA|       NA|     NA|       NA|       NA|                  NA|     NA|      NA|     NA|     NA|        NA|        NA|        NA|       NA|        NA|       NA|        NA|      NA|       NA|      NA|        NA|      NA|      NA|       NA|       NA| NA|      NA|        NA|     NA|      NA|        NA|       NA|        NA|       NA|       NA|        NA|        NA|                  NA|      NA|      NA|      NA|     NA|      NA|      NA|        NA|     NA|       NA|     NA|    NA|     NA|    NA|     NA|    NA|       NA|        NA|        NA|        NA|        NA|        NA|     NA|        NA|           NA|           NA|\n",
            "| 14|       3|  DOWNTOWN-METROTECH|    21 OFFICE BUILDINGS|        4|   63|   1|    null|            O6|  55 PROSPECT STREET|            null|   11201|                0|               2|          2|    20704|    253096|      1967|                4|                    O6| 138106368|2017-03-31|        2017|       BK|302|    21|  2029|        13|     33|  11201|    L118|        84|        36|      1000|        3|        02|      1B|   107 ADAMS STREET|     M1-6|       NA|       NA|       NA|      NA|      NA|     NA|     NA|     NA|       NA|        N|       O6|     05|        0|       NA|55 PROSPECT OWNER...|  20704|  253096| 253096|      0|    233705|     19391|         0|        0|         0|        0|         2|       1|       11|       0|         2|  100.75|     206|      100|      205| NA|       2|         Y|      3|       0|    544500| 17237700|         0|        0|     1967|      2014|         0|                  NA|      NA|   12.22|       0|     10|      10|       3|3000630001|      0|     0021| 987524|194630|    12d|    NA|302 015| 30102|       NA|         0|        NA|         1|        NA|        NA| 17V1.1|         0|621.710683646|21360.0301893|\n",
            "| 15|       3|DOWNTOWN-FULTON MALL|   28  COMMERCIAL CO...|        4|  159|1001|    null|            RK|   486 FULTON STREET|           LOWER|   11201|                0|               0|          1|        0|         0|      1920|                4|                    R5| 135212000|2013-12-02|        2013|       NA| NA|    NA|    NA|        NA|     NA|     NA|      NA|        NA|        NA|        NA|       NA|        NA|      NA|                 NA|       NA|       NA|       NA|       NA|      NA|      NA|     NA|     NA|     NA|       NA|       NA|       NA|     NA|       NA|       NA|                  NA|     NA|      NA|     NA|     NA|        NA|        NA|        NA|       NA|        NA|       NA|        NA|      NA|       NA|      NA|        NA|      NA|      NA|       NA|       NA| NA|      NA|        NA|     NA|      NA|        NA|       NA|        NA|       NA|       NA|        NA|        NA|                  NA|      NA|      NA|      NA|     NA|      NA|      NA|        NA|     NA|       NA|     NA|    NA|     NA|    NA|     NA|    NA|       NA|        NA|        NA|        NA|        NA|        NA|     NA|        NA|           NA|           NA|\n",
            "| 16|       3|  DOWNTOWN-METROTECH|        26 OTHER HOTELS|        4|   87|   9|    null|            H8|     90 SANDS STREET|            null|   11201|                0|               1|          1|    21175|    363100|      1992|                4|                    H8|  1.35e+08|2017-08-29|        2017|       BK|302|    13|  2002|        13|     33|  11201|    L118|        84|        36|      1000|        3|        02|      1B|    90 SANDS STREET|     M1-6|       NA|       NA|       NA|      NA|      NA|     NA|     NA|     NA|       NA|        N|       H8|     08|        0|        P|WATCHTOWER C/O RE...|  21175|  363100|  86353|      0|         0|         0|         0|        0|         0|    86353|         2|       1|     28.5|       0|         1|     103|  206.08|      103|   206.08| NA|       0|         N|      3|       5|   5760000| 29519100|   5760000| 29519100|     1992|         0|         0|                  NA|      NA|   17.15|       0|     10|      10|       3|3000870009|      0|     0013| 987811|194154|    12d|    NA|302 030| 30102|       NA|         0|        NA|         1|        NA|        NA| 17V1.1|         0|631.446195613|21861.4184568|\n",
            "| 17|       3|  WILLIAMSBURG-NORTH|   31  COMMERCIAL VA...|        4| 2282|   1|    null|            V1|      19 KENT AVENUE|            null|   11249|                0|               1|          1|    80000|         0|      1920|                4|                    V1| 132400000|2015-12-24|        2015|       BK|301|   557|  2002|        14|     33|  11249|    L106|        94|        30|       400|        3|        01|      1A|     19 KENT AVENUE|     M1-2|       NA|       NA|       NA|      NA|      NA|     NA|     NA|     NA|       NA|        N|       O6|     05|        0|       NA|19 KENT ACQUISITI...|  80000|  626140| 626140|      0|    159000|    243140|         0|        0|         0|   224000|         2|       1|       10|       0|        32|     200|     400|      150|      300| NA|       1|         Y|      1|       2|   3600000|  7826850|         0|        0|     2016|         0|         0|                  NA|      NA|    7.83|       0|      2|     4.8|       3|3022820001|      0|     0557| 995946|202671|    12c|    NA|304 032| 30804|    E-373|3022820001|08/27/2014|         1|         1|         1| 17V1.1|         0|1203.17419264|80813.2531628|\n",
            "| 18|       3|  WILLIAMSBURG-NORTH|   08  RENTALS - ELE...|        2| 2322|  10|    null|            D3|246 NORTH 8TH   S...|            null|   11211|              104|               0|        104|    20000|     88797|      2014|                2|                    D3|  1.25e+08|2016-03-01|        2016|       BK|301|   519|  1009|        14|     33|  11211|    E229|        94|        30|       700|        3|        01|      3B| 246 NORTH 8 STREET| M1-2/R6A|       NA|       NA|       NA|      NA|      NA|   MX-8|     NA|     NA|       NA|        N|       D3|     03|        0|       NA|GS 247 N7TH WILLI...|  20000|   88797|  17609|  71188|         0|         0|     17609|        0|         0|        0|         2|       1|        7|     104|       104|     200|     100|      200|      100| NA|       0|         N|      0|       5|     9e+05| 11085300|         0|  8820264|     2014|      2008|         0|                  NA|      NA|    4.44|       3|      2|       3|       3|3023220010|      0|     0519| 996994|200202|    13a|    NA|304 017| 30804|    E-138|3023220010|02/09/2015|         1|         1|        NA| 17V1.1|         0|608.501487291|20808.0532882|\n",
            "| 19|       3|            CANARSIE|   29  COMMERCIAL GA...|        4| 7920|   1|    null|            G7|  8717 FOSTER AVENUE|            null|   11236|                0|               0|          0|   278821|         0|         0|                4|                    G7|  1.24e+08|2012-12-05|        2012|       BK|318|   960|  1007|        18|     45|  11236|    E310|        69|        33|      7510|        3|        18|      2D| 8717 FOSTER AVENUE|     M1-1|       NA|       NA|       NA|      NA|      NA|     NA|     NA|     NA|       NA|        N|       G7|     10|        0|        P|COLE MT BROOKLYN NY,| 278821|       0|      0|      0|         0|         0|         0|        0|         0|        0|         7|       1|        0|       0|         0|  653.36|  759.05|        0|        0| NA|       0|         Y|      3|       5|   4324950|  4324950|         0|        0|        0|         0|         0|                  NA|      NA|       0|       0|      1|     2.4|       3|3079200001|      0|     0960|1007450|174221|    23a|    NA|317 020| 32401|       NA|3079200007|01/07/2011|         1|        NA|        NA| 17V1.1|         0|5692.27946456|354688.981113|\n",
            "| 20|       3|  DOWNTOWN-METROTECH|    21 OFFICE BUILDINGS|        4|   77|   1|    null|            O6|     77 SANDS STREET|            null|   11201|                0|               5|          5|    14800|    223712|      1962|                4|                    O6| 121313223|2017-03-31|        2017|       BK|302|    13|  2000|        13|     33|  11201|    L118|        84|        36|      1000|        3|        02|      1B|   137 PEARL STREET|     M1-6|       NA|       NA|       NA|      NA|      NA|     NA|     NA|     NA|       NA|        N|       O6|     05|        0|       NA|  77 SANDS OWNER LLC|  14800|  223712| 223712|      0|    206860|     16852|         0|        0|         0|        0|         2|       1|       12|       0|         5|  100.08|     172|      100|      172| NA|       1|         Y|      1|       2|    399600| 15236550|         0|        0|     1962|      2014|         0|                  NA|      NA|   15.12|       0|     10|      10|       3|3000770001|      0|     0013| 987744|194462|    12d|    NA|302 016| 30102|       NA|         0|        NA|         1|        NA|        NA| 17V1.1|         0|530.358672781|16225.6446743|\n",
            "+---+--------+--------------------+-----------------------+---------+-----+----+--------+--------------+--------------------+----------------+--------+-----------------+----------------+-----------+---------+----------+----------+-----------------+----------------------+----------+----------+------------+---------+---+------+------+----------+-------+-------+--------+----------+----------+----------+---------+----------+--------+-------------------+---------+---------+---------+---------+--------+--------+-------+-------+-------+---------+---------+---------+-------+---------+---------+--------------------+-------+--------+-------+-------+----------+----------+----------+---------+----------+---------+----------+--------+---------+--------+----------+--------+--------+---------+---------+---+--------+----------+-------+--------+----------+---------+----------+---------+---------+----------+----------+--------------------+--------+--------+--------+-------+--------+--------+----------+-------+---------+-------+------+-------+------+-------+------+---------+----------+----------+----------+----------+----------+-------+----------+-------------+-------------+\n",
            "only showing top 20 rows\n",
            "\n"
          ],
          "name": "stdout"
        }
      ]
    },
    {
      "cell_type": "code",
      "metadata": {
        "id": "ZhLkjbAgmk8N"
      },
      "source": [
        "from pyspark.sql import functions as F"
      ],
      "execution_count": null,
      "outputs": []
    },
    {
      "cell_type": "markdown",
      "metadata": {
        "id": "2vUIy007mxcM"
      },
      "source": [
        "1. Найдите среднююстоимость жилья (sale_price) и выведите новую таблицу, содержащую две колонки – стоимость жилья и процент отклонения стоимости от среднего значения."
      ]
    },
    {
      "cell_type": "code",
      "metadata": {
        "colab": {
          "base_uri": "https://localhost:8080/"
        },
        "id": "nBxvOclomwv-",
        "outputId": "bbd5b8ef-6925-493a-cddd-32855c85c856"
      },
      "source": [
        "df_sale_price = df.withColumn('sale_price_d', df['sale_price'].cast('double')).select('sale_price_d').orderBy(F.desc('sale_price_d'))\n",
        "df_sale_price.show()"
      ],
      "execution_count": null,
      "outputs": [
        {
          "output_type": "stream",
          "text": [
            "+------------+\n",
            "|sale_price_d|\n",
            "+------------+\n",
            "|4.99401179E8|\n",
            "|      3.45E8|\n",
            "|       3.4E8|\n",
            "|   2.76947E8|\n",
            "|       2.4E8|\n",
            "|    2.0502E8|\n",
            "|     2.025E8|\n",
            "|   1.85445E8|\n",
            "|      1.71E8|\n",
            "|      1.69E8|\n",
            "|      1.65E8|\n",
            "|      1.61E8|\n",
            "|       1.6E8|\n",
            "|      1.58E8|\n",
            "|    1.5425E8|\n",
            "|1.38106368E8|\n",
            "|   1.35212E8|\n",
            "|      1.35E8|\n",
            "|     1.324E8|\n",
            "|      1.25E8|\n",
            "+------------+\n",
            "only showing top 20 rows\n",
            "\n"
          ],
          "name": "stdout"
        }
      ]
    },
    {
      "cell_type": "code",
      "metadata": {
        "colab": {
          "base_uri": "https://localhost:8080/"
        },
        "id": "aEUPRdbiBjXJ",
        "outputId": "120b836b-2cd6-4c50-d96c-82a3742d7b0e"
      },
      "source": [
        "df2 = df['sale_price'].cast('double').alias('sale_price')\n",
        "df2"
      ],
      "execution_count": null,
      "outputs": [
        {
          "output_type": "execute_result",
          "data": {
            "text/plain": [
              "Column<b'CAST(sale_price AS DOUBLE) AS `sale_price`'>"
            ]
          },
          "metadata": {
            "tags": []
          },
          "execution_count": 17
        }
      ]
    },
    {
      "cell_type": "code",
      "metadata": {
        "colab": {
          "base_uri": "https://localhost:8080/"
        },
        "id": "5wd4LoFFCKlI",
        "outputId": "33b91b97-5b43-4589-fa92-42ff66c61230"
      },
      "source": [
        "df3 = df.select(F.col('sale_price').cast('double')).collect()[0][0]\n",
        "df3"
      ],
      "execution_count": null,
      "outputs": [
        {
          "output_type": "execute_result",
          "data": {
            "text/plain": [
              "499401179.0"
            ]
          },
          "metadata": {
            "tags": []
          },
          "execution_count": 21
        }
      ]
    },
    {
      "cell_type": "code",
      "metadata": {
        "id": "ZX-XVcIkDEX_"
      },
      "source": [
        "df_col_avg = df.select( *[F.mean(c).alias(c) for c in df.columns])"
      ],
      "execution_count": null,
      "outputs": []
    },
    {
      "cell_type": "code",
      "metadata": {
        "colab": {
          "base_uri": "https://localhost:8080/"
        },
        "id": "g1PG0-kADF1d",
        "outputId": "ee192e11-44fa-47ba-e1e4-4a8117fb2575"
      },
      "source": [
        "df_col_avg = df.select(*[F.mean(c).alias(c) for c in df.columns])\n",
        "for col in df.columns:\n",
        "    avg_val = df_col_avg.select(col).collect()[0][0]\n",
        "    print(avg_val)\n",
        "    if avg_val == None:\n",
        "        continue\n",
        "    df.fillna(avg_val, subset=col)"
      ],
      "execution_count": null,
      "outputs": [
        {
          "output_type": "stream",
          "text": [
            "195442.0\n",
            "3.0\n",
            "3009.0\n",
            "None\n",
            "1.6015349828238465\n",
            "4275.651169275717\n",
            "272.50998636420616\n",
            "None\n",
            "None\n",
            "73.86666666666666\n",
            "292.0267628832847\n",
            "11208.429087476303\n",
            "2.4861377957086903\n",
            "0.17414162294088\n",
            "2.673227027013198\n",
            "2368.4637986302805\n",
            "2970.8766408362603\n",
            "1701.6663067976863\n",
            "1.642660335701476\n",
            "None\n",
            "506754.47769281344\n",
            "None\n",
            "2009.4782428501624\n",
            "None\n",
            "309.78321063583206\n",
            "492.221199791758\n",
            "1971.0651604052691\n",
            "19.08980269223677\n",
            "40.888521967023124\n",
            "11207.063718195228\n",
            "None\n",
            "71.83001237949745\n",
            "34.460293420428805\n",
            "5758.185060317126\n",
            "3.0003264762331896\n",
            "9.77639016218284\n",
            "3.2102842809364547\n",
            "None\n",
            "None\n",
            "None\n",
            "None\n",
            "None\n",
            "None\n",
            "None\n",
            "None\n",
            "None\n",
            "None\n",
            "None\n",
            "None\n",
            "None\n",
            "2.188790628685446\n",
            "0.007049070220723806\n",
            "None\n",
            "889.0\n",
            "8459.415677843333\n",
            "23612.377373834483\n",
            "1207.2916984933888\n",
            "22216.569591871674\n",
            "158.4348956961492\n",
            "274.3297325238371\n",
            "248.9965067428752\n",
            "115.6844215877364\n",
            "173.28526510562082\n",
            "209.22560646367802\n",
            "2.086037507243323\n",
            "1.3148244481904863\n",
            "3.1021660498867436\n",
            "22.08292287836485\n",
            "22.347620239161355\n",
            "53.08684349154378\n",
            "109.69502729417162\n",
            "39.39956675051346\n",
            "59.38159145683021\n",
            "None\n",
            "1.566636813233851\n",
            "None\n",
            "4.742886212323761\n",
            "2.4393261904605112\n",
            "120978.39569285676\n",
            "781346.7778143602\n",
            "41366.22609044935\n",
            "81059.10768187325\n",
            "1879.7167004688406\n",
            "295.7784827213823\n",
            "34.01966232945267\n",
            "None\n",
            "None\n",
            "1.6624719485856465\n",
            "1.8286806287193662\n",
            "0.1532687141126288\n",
            "2.8544366670165964\n",
            "3.0\n",
            "3045065726.96216\n",
            "0.029987357108992255\n",
            "4715.545455144076\n",
            "992107.738786019\n",
            "175146.07369422642\n",
            "18.672059406281765\n",
            "None\n",
            "3160220.0\n",
            "31396.72815185539\n",
            "None\n",
            "192788420.60895932\n",
            "None\n",
            "1.0001448664594637\n",
            "1.0\n",
            "1.0\n",
            "None\n",
            "0.00024363904546172892\n",
            "337.44579644649224\n",
            "8645.8849232826\n"
          ],
          "name": "stdout"
        }
      ]
    },
    {
      "cell_type": "code",
      "metadata": {
        "colab": {
          "base_uri": "https://localhost:8080/"
        },
        "id": "2dG_El3AnAz2",
        "outputId": "4c82064e-8e2f-4c80-c107-07d799cad7df"
      },
      "source": [
        "avg_sale_price = df_sale_price.groupBy().agg(F.mean('sale_price_d').alias('mean')).collect()\n",
        "avg_sale_price_val = avg_sale_price[0]['mean']\n",
        "print(avg_sale_price_val)"
      ],
      "execution_count": null,
      "outputs": [
        {
          "output_type": "stream",
          "text": [
            "506754.47769281344\n"
          ],
          "name": "stdout"
        }
      ]
    },
    {
      "cell_type": "code",
      "metadata": {
        "colab": {
          "base_uri": "https://localhost:8080/"
        },
        "id": "Yd5tQ6FCm7H9",
        "outputId": "3c2f4440-c1d9-4e1c-d24e-86e0ff7102d1"
      },
      "source": [
        "df_sale_price_with_avg = df_sale_price.withColumn('sale_price_deviation', (df_sale_price.sale_price_d - avg_sale_price_val)/df_sale_price.sale_price_d * 100)\n",
        "df_sale_price_with_avg.show()"
      ],
      "execution_count": null,
      "outputs": [
        {
          "output_type": "stream",
          "text": [
            "+------------+--------------------+\n",
            "|sale_price_d|sale_price_deviation|\n",
            "+------------+--------------------+\n",
            "|4.99401179E8|   99.89852757682559|\n",
            "|      3.45E8|     99.853114644147|\n",
            "|       3.4E8|   99.85095456538446|\n",
            "|   2.76947E8|   99.81702113484066|\n",
            "|       2.4E8|   99.78885230096132|\n",
            "|    2.0502E8|   99.75282680826612|\n",
            "|     2.025E8|   99.74975087521342|\n",
            "|   1.85445E8|    99.7267359714779|\n",
            "|      1.71E8|   99.70365235222643|\n",
            "|      1.69E8|   99.70014527947171|\n",
            "|      1.65E8|   99.69287607412556|\n",
            "|      1.61E8|    99.6852456660293|\n",
            "|       1.6E8|   99.68327845144199|\n",
            "|      1.58E8|   99.67926931791594|\n",
            "|    1.5425E8|   99.67147197556382|\n",
            "|1.38106368E8|   99.63306943406634|\n",
            "|   1.35212E8|   99.62521486429252|\n",
            "|      1.35E8|   99.62462631282014|\n",
            "|     1.324E8|   99.61725492621389|\n",
            "|      1.25E8|   99.59459641784575|\n",
            "+------------+--------------------+\n",
            "only showing top 20 rows\n",
            "\n"
          ],
          "name": "stdout"
        }
      ]
    },
    {
      "cell_type": "markdown",
      "metadata": {
        "id": "7whkSOVgoAX_"
      },
      "source": [
        "2. Выведите таблицу, содержащую все категории класса зданий (building_class_category) и количество записей, которые к ним относятся."
      ]
    },
    {
      "cell_type": "code",
      "metadata": {
        "colab": {
          "base_uri": "https://localhost:8080/"
        },
        "id": "d3Rwl4cMn6mE",
        "outputId": "d3536670-bc10-45ed-e88b-593adcdb098e"
      },
      "source": [
        "df_bcc = df.select('building_class_category')\n",
        "df_bcc.show()"
      ],
      "execution_count": null,
      "outputs": [
        {
          "output_type": "stream",
          "text": [
            "+-----------------------+\n",
            "|building_class_category|\n",
            "+-----------------------+\n",
            "|   28  COMMERCIAL CO...|\n",
            "|   29  COMMERCIAL GA...|\n",
            "|   21  OFFICE BUILDINGS|\n",
            "|    22  STORE BUILDINGS|\n",
            "|        26 OTHER HOTELS|\n",
            "|   31  COMMERCIAL VA...|\n",
            "|    21 OFFICE BUILDINGS|\n",
            "|   08  RENTALS - ELE...|\n",
            "|   29  COMMERCIAL GA...|\n",
            "|         30  WAREHOUSES|\n",
            "|   41 TAX CLASS 4 - ...|\n",
            "|   31  COMMERCIAL VA...|\n",
            "|      11A CONDO-RENTALS|\n",
            "|    21 OFFICE BUILDINGS|\n",
            "|   28  COMMERCIAL CO...|\n",
            "|        26 OTHER HOTELS|\n",
            "|   31  COMMERCIAL VA...|\n",
            "|   08  RENTALS - ELE...|\n",
            "|   29  COMMERCIAL GA...|\n",
            "|    21 OFFICE BUILDINGS|\n",
            "+-----------------------+\n",
            "only showing top 20 rows\n",
            "\n"
          ],
          "name": "stdout"
        }
      ]
    },
    {
      "cell_type": "code",
      "metadata": {
        "colab": {
          "base_uri": "https://localhost:8080/"
        },
        "id": "SSVGFqXcoEl9",
        "outputId": "724e7bbb-1ae9-4aae-9ee1-c928faa30402"
      },
      "source": [
        "df_bcc_count = df_bcc.groupBy('building_class_category').count()\n",
        "df_bcc_count.show()"
      ],
      "execution_count": null,
      "outputs": [
        {
          "output_type": "stream",
          "text": [
            "+-----------------------+------+\n",
            "|building_class_category| count|\n",
            "+-----------------------+------+\n",
            "|   32  HOSPITAL AND ...|   318|\n",
            "|         17 CONDO COOPS|    29|\n",
            "|   49 CONDO WAREHOUS...|    24|\n",
            "|   11  SPECIAL CONDO...|     4|\n",
            "|            17  CONDOPS|   448|\n",
            "|      44  CONDO PARKING|  2596|\n",
            "|    01 ONE FAMILY HOMES| 54205|\n",
            "|   31 COMMERCIAL VAC...|   132|\n",
            "|   48  CONDO TERRACE...|    90|\n",
            "|   03 THREE FAMILY H...| 38691|\n",
            "|   16  CONDOS - 2-10...|   439|\n",
            "|    02 TWO FAMILY HOMES|106127|\n",
            "|           27 FACTORIES|    84|\n",
            "|          30 WAREHOUSES|   133|\n",
            "|                   null|    83|\n",
            "|   28 COMMERCIAL CONDOS|     7|\n",
            "|   47 CONDO NON-BUSI...|   100|\n",
            "|   36 OUTDOOR RECREA...|     4|\n",
            "|   05  TAX CLASS 1 V...|  7377|\n",
            "|   15  CONDOS - 2-10...|  8913|\n",
            "+-----------------------+------+\n",
            "only showing top 20 rows\n",
            "\n"
          ],
          "name": "stdout"
        }
      ]
    },
    {
      "cell_type": "markdown",
      "metadata": {
        "id": "nNKsltZCoKUB"
      },
      "source": [
        "3. Выведите таблицу, содержащую средние значения по каждому столбцу в датафрейме."
      ]
    },
    {
      "cell_type": "code",
      "metadata": {
        "colab": {
          "base_uri": "https://localhost:8080/"
        },
        "id": "z7DyFD9hoG4V",
        "outputId": "ca7f7db3-cbb4-424d-83a2-5b2dfa6d7c52"
      },
      "source": [
        "df_col_avg = df.select(*[F.mean(c).alias(c) for c in df.columns])\n",
        "df_col_avg.show()"
      ],
      "execution_count": null,
      "outputs": [
        {
          "output_type": "stream",
          "text": [
            "+--------+--------+------------+-----------------------+------------------+-----------------+------------------+--------+--------------+-----------------+-----------------+------------------+------------------+----------------+-----------------+------------------+------------------+------------------+-----------------+----------------------+------------------+---------+------------------+---------+------------------+----------------+------------------+-----------------+------------------+------------------+--------+-----------------+------------------+-----------------+------------------+----------------+------------------+---------+---------+---------+---------+---------+--------+--------+-------+-------+-------+---------+---------+---------+-----------------+--------------------+---------+---------+-----------------+------------------+------------------+------------------+-----------------+-----------------+-----------------+-----------------+------------------+------------------+-----------------+------------------+------------------+-----------------+------------------+-----------------+------------------+-----------------+-----------------+----+-----------------+----------+-----------------+------------------+------------------+-----------------+-----------------+-----------------+------------------+-----------------+-----------------+--------+--------+------------------+------------------+------------------+------------------+--------+------------------+--------------------+-----------------+----------------+------------------+------------------+------+---------+-----------------+---------+--------------------+-------+------------------+----------+----------+-------+--------------------+------------------+---------------+\n",
            "|     _c0|borough1|neighborhood|building_class_category|         tax_class|            block|               lot|easement|building_class|         address9| apartment_number|          zip_code| residential_units|commercial_units|      total_units|         land_sqft|        gross_sqft|        year_built|tax_class_at_sale|building_class_at_sale|        sale_price|sale_date|      year_of_sale|Borough23|                CD|          CT2010|            CB2010|       SchoolDist|           Council|           ZipCode|FireComp|       PolicePrct|        HealthCent|       HealthArea|         SanitBoro|      SanitDistr|          SanitSub|Address37|ZoneDist1|ZoneDist2|ZoneDist3|ZoneDist4|Overlay1|Overlay2|SPDist1|SPDist2|SPDist3|LtdHeight|SplitZone|BldgClass|          LandUse|           Easements|OwnerType|OwnerName|          LotArea|          BldgArea|           ComArea|           ResArea|       OfficeArea|       RetailArea|       GarageArea|        StrgeArea|        FactryArea|         OtherArea|       AreaSource|          NumBldgs|         NumFloors|         UnitsRes|        UnitsTotal|         LotFront|          LotDepth|        BldgFront|        BldgDepth| Ext|         ProxCode|IrrLotCode|          LotType|          BsmtCode|        AssessLand|        AssessTot|       ExemptLand|        ExemptTot|         YearBuilt|       YearAlter1|       YearAlter2|HistDist|Landmark|          BuiltFAR|          ResidFAR|           CommFAR|          FacilFAR|BoroCode|               BBL|             CondoNo|        Tract2010|          XCoord|            YCoord|           ZoneMap|ZMCode|  Sanborn|           TaxMap|EDesigNum|              APPBBL|APPDate|        PLUTOMapID|FIRM07_FLA|PFIRM15_FL|Version|          MAPPLUTO_F|        SHAPE_Leng|     SHAPE_Area|\n",
            "+--------+--------+------------+-----------------------+------------------+-----------------+------------------+--------+--------------+-----------------+-----------------+------------------+------------------+----------------+-----------------+------------------+------------------+------------------+-----------------+----------------------+------------------+---------+------------------+---------+------------------+----------------+------------------+-----------------+------------------+------------------+--------+-----------------+------------------+-----------------+------------------+----------------+------------------+---------+---------+---------+---------+---------+--------+--------+-------+-------+-------+---------+---------+---------+-----------------+--------------------+---------+---------+-----------------+------------------+------------------+------------------+-----------------+-----------------+-----------------+-----------------+------------------+------------------+-----------------+------------------+------------------+-----------------+------------------+-----------------+------------------+-----------------+-----------------+----+-----------------+----------+-----------------+------------------+------------------+-----------------+-----------------+-----------------+------------------+-----------------+-----------------+--------+--------+------------------+------------------+------------------+------------------+--------+------------------+--------------------+-----------------+----------------+------------------+------------------+------+---------+-----------------+---------+--------------------+-------+------------------+----------+----------+-------+--------------------+------------------+---------------+\n",
            "|195442.0|     3.0|      3009.0|                   null|1.6015349828238465|4275.651169275717|272.50998636420616|    null|          null|73.86666666666666|292.0267628832847|11208.429087476303|2.4861377957086903|0.17414162294088|2.673227027013198|2368.4637986302805|2970.8766408362603|1701.6663067976863|1.642660335701476|                  null|506754.47769281344|     null|2009.4782428501624|     null|309.78321063583206|492.221199791758|1971.0651604052691|19.08980269223677|40.888521967023124|11207.063718195228|    null|71.83001237949745|34.460293420428805|5758.185060317126|3.0003264762331896|9.77639016218284|3.2102842809364547|     null|     null|     null|     null|     null|    null|    null|   null|   null|   null|     null|     null|     null|2.188790628685446|0.007049070220723806|     null|    889.0|8459.415677843333|23612.377373834483|1207.2916984933888|22216.569591871674|158.4348956961492|274.3297325238371|248.9965067428752|115.6844215877364|173.28526510562082|209.22560646367802|2.086037507243323|1.3148244481904863|3.1021660498867436|22.08292287836485|22.347620239161355|53.08684349154378|109.69502729417162|39.39956675051346|59.38159145683021|null|1.566636813233851|      null|4.742886212323761|2.4393261904605112|120978.39569285676|781346.7778143602|41366.22609044935|81059.10768187325|1879.7167004688406|295.7784827213823|34.01966232945267|    null|    null|1.6624719485856465|1.8286806287193662|0.1532687141126288|2.8544366670165964|     3.0|3.04506572696216E9|0.029987357108992255|4715.545455144076|992107.738786019|175146.07369422642|18.672059406281765|  null|3160220.0|31396.72815185539|     null|1.9278842060895932E8|   null|1.0001448664594637|       1.0|       1.0|   null|2.436390454617289...|337.44579644649224|8645.8849232826|\n",
            "+--------+--------+------------+-----------------------+------------------+-----------------+------------------+--------+--------------+-----------------+-----------------+------------------+------------------+----------------+-----------------+------------------+------------------+------------------+-----------------+----------------------+------------------+---------+------------------+---------+------------------+----------------+------------------+-----------------+------------------+------------------+--------+-----------------+------------------+-----------------+------------------+----------------+------------------+---------+---------+---------+---------+---------+--------+--------+-------+-------+-------+---------+---------+---------+-----------------+--------------------+---------+---------+-----------------+------------------+------------------+------------------+-----------------+-----------------+-----------------+-----------------+------------------+------------------+-----------------+------------------+------------------+-----------------+------------------+-----------------+------------------+-----------------+-----------------+----+-----------------+----------+-----------------+------------------+------------------+-----------------+-----------------+-----------------+------------------+-----------------+-----------------+--------+--------+------------------+------------------+------------------+------------------+--------+------------------+--------------------+-----------------+----------------+------------------+------------------+------+---------+-----------------+---------+--------------------+-------+------------------+----------+----------+-------+--------------------+------------------+---------------+\n",
            "\n"
          ],
          "name": "stdout"
        }
      ]
    },
    {
      "cell_type": "code",
      "metadata": {
        "colab": {
          "base_uri": "https://localhost:8080/"
        },
        "id": "oFmMrA6SoWJe",
        "outputId": "bd7dab1d-daff-47d9-b52f-bd1b042b56ae"
      },
      "source": [
        "df_for_sample = df.select(['neighborhood', 'building_class_category', 'gross_sqft', 'sale_price']).limit(5)\n",
        "df_for_sample.show()"
      ],
      "execution_count": null,
      "outputs": [
        {
          "output_type": "stream",
          "text": [
            "+--------------------+-----------------------+----------+----------+\n",
            "|        neighborhood|building_class_category|gross_sqft|sale_price|\n",
            "+--------------------+-----------------------+----------+----------+\n",
            "|  DOWNTOWN-METROTECH|   28  COMMERCIAL CO...|         0| 499401179|\n",
            "|DOWNTOWN-FULTON F...|   29  COMMERCIAL GA...|         0|  3.45e+08|\n",
            "|    BROOKLYN HEIGHTS|   21  OFFICE BUILDINGS|    304650|   3.4e+08|\n",
            "|          MILL BASIN|    22  STORE BUILDINGS|   2548000| 276947000|\n",
            "|    BROOKLYN HEIGHTS|        26 OTHER HOTELS|    356000| 202500000|\n",
            "+--------------------+-----------------------+----------+----------+\n",
            "\n"
          ],
          "name": "stdout"
        }
      ]
    }
  ]
}