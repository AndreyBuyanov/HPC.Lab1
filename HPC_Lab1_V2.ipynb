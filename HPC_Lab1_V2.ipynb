{
  "nbformat": 4,
  "nbformat_minor": 0,
  "metadata": {
    "colab": {
      "name": "HPC.Lab1.V2.ipynb",
      "provenance": [],
      "collapsed_sections": [],
      "authorship_tag": "ABX9TyNmeXaLFkVTtk25GW1acGu8",
      "include_colab_link": true
    },
    "kernelspec": {
      "name": "python3",
      "display_name": "Python 3"
    }
  },
  "cells": [
    {
      "cell_type": "markdown",
      "metadata": {
        "id": "view-in-github",
        "colab_type": "text"
      },
      "source": [
        "<a href=\"https://colab.research.google.com/github/AndreyBuyanov/HPC.Lab1/blob/main/HPC_Lab1_V2.ipynb\" target=\"_parent\"><img src=\"https://colab.research.google.com/assets/colab-badge.svg\" alt=\"Open In Colab\"/></a>"
      ]
    },
    {
      "cell_type": "markdown",
      "metadata": {
        "id": "cYn0jQ75Eh2H"
      },
      "source": [
        "Отчёт https://disk.yandex.ru/i/Ue_SfxYs6mr_NQ"
      ]
    },
    {
      "cell_type": "markdown",
      "metadata": {
        "id": "AwqSJ851-RNM"
      },
      "source": [
        "Подключаем GoogleDrive"
      ]
    },
    {
      "cell_type": "code",
      "metadata": {
        "colab": {
          "base_uri": "https://localhost:8080/"
        },
        "id": "CY7mC2bWbFAa",
        "outputId": "70e1a875-1844-410c-cf76-05eb50cecdae"
      },
      "source": [
        "from google.colab import drive\n",
        "drive.mount('/content/drive')"
      ],
      "execution_count": null,
      "outputs": [
        {
          "output_type": "stream",
          "text": [
            "Mounted at /content/drive\n"
          ],
          "name": "stdout"
        }
      ]
    },
    {
      "cell_type": "markdown",
      "metadata": {
        "id": "qCvrINmQyDma"
      },
      "source": [
        "Устанавливаем OpenJDK"
      ]
    },
    {
      "cell_type": "code",
      "metadata": {
        "id": "MjHiEZSoK7h9"
      },
      "source": [
        "!apt-get install openjdk-11-jdk-headless -qq > /dev/null"
      ],
      "execution_count": null,
      "outputs": []
    },
    {
      "cell_type": "markdown",
      "metadata": {
        "id": "UT-adp1AyMTj"
      },
      "source": [
        "Устанавливаем переменные окружения, необходимые для скачивания дистрибутива Spark"
      ]
    },
    {
      "cell_type": "code",
      "metadata": {
        "id": "P2CcPc8uRiOI"
      },
      "source": [
        "import os\n",
        "os.environ['APACHE_SPARK_DISTR_NAME'] = 'spark-3.0.2-bin-hadoop2.7'\n",
        "os.environ['APACHE_SPARK_URL'] = 'https://downloads.apache.org/spark/spark-3.0.2/spark-3.0.2-bin-hadoop2.7.tgz'"
      ],
      "execution_count": null,
      "outputs": []
    },
    {
      "cell_type": "markdown",
      "metadata": {
        "id": "MOLBzysvyVNR"
      },
      "source": [
        "Скачиваем и распаковываем архив с дистрибутивом Spark"
      ]
    },
    {
      "cell_type": "code",
      "metadata": {
        "id": "h9GkCW-BMwWk"
      },
      "source": [
        "![ ! -d $APACHE_SPARK_DISTR_NAME ] \\\n",
        "   && wget -q $APACHE_SPARK_URL \\\n",
        "   && tar xf $APACHE_SPARK_DISTR_NAME.tgz \\\n",
        "   && rm -f $APACHE_SPARK_DISTR_NAME.tgz"
      ],
      "execution_count": null,
      "outputs": []
    },
    {
      "cell_type": "markdown",
      "metadata": {
        "id": "qpLlQgEsydcb"
      },
      "source": [
        "Устанавливаем переменные окружения, необходимые для работы дистрибутива Spark"
      ]
    },
    {
      "cell_type": "code",
      "metadata": {
        "id": "jm0Bl_9MLXeM"
      },
      "source": [
        "os.environ['JAVA_HOME'] = '/usr/lib/jvm/java-11-openjdk-amd64'\n",
        "os.environ['SPARK_HOME'] = '/content/spark-3.0.2-bin-hadoop2.7'"
      ],
      "execution_count": null,
      "outputs": []
    },
    {
      "cell_type": "markdown",
      "metadata": {
        "id": "YJOXnopJykZL"
      },
      "source": [
        "Устанавливаем пакет findspark"
      ]
    },
    {
      "cell_type": "code",
      "metadata": {
        "id": "uM5W1Ck_M0pM"
      },
      "source": [
        "!pip install findspark > /dev/null"
      ],
      "execution_count": null,
      "outputs": []
    },
    {
      "cell_type": "markdown",
      "metadata": {
        "id": "zEUzozxJyraD"
      },
      "source": [
        "Подключаем пакет findspark"
      ]
    },
    {
      "cell_type": "code",
      "metadata": {
        "id": "-P_f78dwSqBf"
      },
      "source": [
        "import findspark\n",
        "findspark.init()"
      ],
      "execution_count": null,
      "outputs": []
    },
    {
      "cell_type": "markdown",
      "metadata": {
        "id": "T7lFXGmeyym8"
      },
      "source": [
        "Подключаем пакет SparkSession"
      ]
    },
    {
      "cell_type": "code",
      "metadata": {
        "id": "UuCtgIWJVC8G"
      },
      "source": [
        "from pyspark.sql import SparkSession"
      ],
      "execution_count": null,
      "outputs": []
    },
    {
      "cell_type": "markdown",
      "metadata": {
        "id": "oR-X9I5Hy1Lq"
      },
      "source": [
        "Создаём новую сессию"
      ]
    },
    {
      "cell_type": "code",
      "metadata": {
        "id": "NONGgXB7Z6L2"
      },
      "source": [
        "spark = SparkSession.builder.master('local').appName(\"HPC.Lab1\").getOrCreate()"
      ],
      "execution_count": null,
      "outputs": []
    },
    {
      "cell_type": "markdown",
      "metadata": {
        "id": "WOks8Vyjy5Ks"
      },
      "source": [
        "Загружаем данные из исходного датасета в дата-фрейм main_df и показываем"
      ]
    },
    {
      "cell_type": "code",
      "metadata": {
        "colab": {
          "base_uri": "https://localhost:8080/"
        },
        "id": "tKlFQkNTZ7Dv",
        "outputId": "6513c88b-a467-41b1-e78a-c76a19cfc963"
      },
      "source": [
        "main_df = spark.read.csv(r\"./drive/My Drive/TPU/HPC/Lab1/brooklyn_sales_map.csv\", header=True)\n",
        "main_df.show()"
      ],
      "execution_count": null,
      "outputs": [
        {
          "output_type": "stream",
          "text": [
            "+---+--------+--------------------+-----------------------+---------+-----+----+--------+--------------+--------------------+----------------+--------+-----------------+----------------+-----------+---------+----------+----------+-----------------+----------------------+----------+----------+------------+---------+---+------+------+----------+-------+-------+--------+----------+----------+----------+---------+----------+--------+-------------------+---------+---------+---------+---------+--------+--------+-------+-------+-------+---------+---------+---------+-------+---------+---------+--------------------+-------+--------+-------+-------+----------+----------+----------+---------+----------+---------+----------+--------+---------+--------+----------+--------+--------+---------+---------+---+--------+----------+-------+--------+----------+---------+----------+---------+---------+----------+----------+--------------------+--------+--------+--------+-------+--------+--------+----------+-------+---------+-------+------+-------+------+-------+------+---------+----------+----------+----------+----------+----------+-------+----------+-------------+-------------+\n",
            "|_c0|borough1|        neighborhood|building_class_category|tax_class|block| lot|easement|building_class|            address9|apartment_number|zip_code|residential_units|commercial_units|total_units|land_sqft|gross_sqft|year_built|tax_class_at_sale|building_class_at_sale|sale_price| sale_date|year_of_sale|Borough23| CD|CT2010|CB2010|SchoolDist|Council|ZipCode|FireComp|PolicePrct|HealthCent|HealthArea|SanitBoro|SanitDistr|SanitSub|          Address37|ZoneDist1|ZoneDist2|ZoneDist3|ZoneDist4|Overlay1|Overlay2|SPDist1|SPDist2|SPDist3|LtdHeight|SplitZone|BldgClass|LandUse|Easements|OwnerType|           OwnerName|LotArea|BldgArea|ComArea|ResArea|OfficeArea|RetailArea|GarageArea|StrgeArea|FactryArea|OtherArea|AreaSource|NumBldgs|NumFloors|UnitsRes|UnitsTotal|LotFront|LotDepth|BldgFront|BldgDepth|Ext|ProxCode|IrrLotCode|LotType|BsmtCode|AssessLand|AssessTot|ExemptLand|ExemptTot|YearBuilt|YearAlter1|YearAlter2|            HistDist|Landmark|BuiltFAR|ResidFAR|CommFAR|FacilFAR|BoroCode|       BBL|CondoNo|Tract2010| XCoord|YCoord|ZoneMap|ZMCode|Sanborn|TaxMap|EDesigNum|    APPBBL|   APPDate|PLUTOMapID|FIRM07_FLA|PFIRM15_FL|Version|MAPPLUTO_F|   SHAPE_Leng|   SHAPE_Area|\n",
            "+---+--------+--------------------+-----------------------+---------+-----+----+--------+--------------+--------------------+----------------+--------+-----------------+----------------+-----------+---------+----------+----------+-----------------+----------------------+----------+----------+------------+---------+---+------+------+----------+-------+-------+--------+----------+----------+----------+---------+----------+--------+-------------------+---------+---------+---------+---------+--------+--------+-------+-------+-------+---------+---------+---------+-------+---------+---------+--------------------+-------+--------+-------+-------+----------+----------+----------+---------+----------+---------+----------+--------+---------+--------+----------+--------+--------+---------+---------+---+--------+----------+-------+--------+----------+---------+----------+---------+---------+----------+----------+--------------------+--------+--------+--------+-------+--------+--------+----------+-------+---------+-------+------+-------+------+-------+------+---------+----------+----------+----------+----------+----------+-------+----------+-------------+-------------+\n",
            "|  1|       3|  DOWNTOWN-METROTECH|   28  COMMERCIAL CO...|        4|  140|1001|    null|            R5|      330 JAY STREET|           COURT|   11201|                0|               1|          1|        0|         0|      2002|                4|                    R5| 499401179|2008-04-23|        2008|       NA| NA|    NA|    NA|        NA|     NA|     NA|      NA|        NA|        NA|        NA|       NA|        NA|      NA|                 NA|       NA|       NA|       NA|       NA|      NA|      NA|     NA|     NA|     NA|       NA|       NA|       NA|     NA|       NA|       NA|                  NA|     NA|      NA|     NA|     NA|        NA|        NA|        NA|       NA|        NA|       NA|        NA|      NA|       NA|      NA|        NA|      NA|      NA|       NA|       NA| NA|      NA|        NA|     NA|      NA|        NA|       NA|        NA|       NA|       NA|        NA|        NA|                  NA|      NA|      NA|      NA|     NA|      NA|      NA|        NA|     NA|       NA|     NA|    NA|     NA|    NA|     NA|    NA|       NA|        NA|        NA|        NA|        NA|        NA|     NA|        NA|           NA|           NA|\n",
            "|  2|       3|DOWNTOWN-FULTON F...|   29  COMMERCIAL GA...|        4|   54|   1|    null|            G7|       85 JAY STREET|            null|   11201|                0|               0|          0|   134988|         0|         0|                4|                    G7|  3.45e+08|2016-12-20|        2016|       BK|302|    21|  3017|        13|     33|  11201|    L118|        84|        36|      1000|        3|        02|      1B|      87 JAY STREET|  M1-2/R8|       NA|       NA|       NA|      NA|      NA|   MX-2|     NA|     NA|       NA|        N|       G7|     10|        0|        P|85 JAY STREET BRO...| 134988|       0|      0|      0|         0|         0|         0|        0|         0|        0|         7|       0|        0|       0|         0|   490.5|  275.33|        0|        0| NA|       0|         N|      5|       5|   1571850|  1571850|   1571850|  1571850|        0|         0|         0|                  NA|      NA|       0|     7.2|      2|     6.5|       3|3000540001|      0|     0021| 988208|195011|    12d|    NA|302 016| 30101|       NA|3000540001|12/06/2002|         1|        NA|        NA| 17V1.1|         0|1559.88914353|140131.577176|\n",
            "|  3|       3|    BROOKLYN HEIGHTS|   21  OFFICE BUILDINGS|        4|  204|   1|    null|            O6| 29 COLUMBIA HEIGHTS|            null|   11201|                0|               0|          0|    32000|    304650|      1924|                4|                    O6|   3.4e+08|2016-08-03|        2016|       BK|302|     1|  1003|        13|     33|  11201|    E205|        84|        38|      2300|        3|        02|      1A|29 COLUMBIA HEIGHTS|     M2-1|       NA|       NA|       NA|      NA|      NA|     NA|     NA|     NA|       NA|        N|       O6|     05|        0|       NA|25-30 COLUMBIA HE...|  32000|  304650| 304650|      0|    264750|         0|         0|        0|         0|    39900|         2|       1|       13|       0|         0|   92.42|  335.92|      335|       92| NA|       0|         Y|      3|       5|   1548000| 25463250|         0|        0|     1924|      1980|         0|                  NA|      NA|    9.52|       0|      2|       0|       3|3002040001|      0|     0001| 985952|195007|    12d|    NA|302 004| 30106|       NA|         0|        NA|         1|        NA|        NA| 17V1.1|         0|890.718521021|34656.4472405|\n",
            "|  4|       3|          MILL BASIN|    22  STORE BUILDINGS|        4| 8470|  55|    null|            K6|       5120 AVENUE U|            null|   11234|                0|             123|        123|   905000|   2548000|      1970|                4|                    K6| 276947000|2012-11-28|        2012|       BK|318|   698|  2005|        22|     46|  11234|    E323|        63|        35|      8822|        3|        18|      4E|      5120 AVENUE U|     M3-1|       NA|       NA|       NA|      NA|      NA|     NA|     NA|     NA|       NA|        N|       K6|     05|        1|       NA|BROOKLYN KINGS PLAZA| 905000| 2548000|2548000|      0|         0|   1263000|   1285000|        0|         0|        0|         2|       4|        2|       0|       123|     930|     859|        0|        0| NA|       0|         Y|      3|       5|  36532350|149792400|         0|        0|     1970|         0|         0|                  NA|      NA|    2.82|       0|      2|       0|       3|3084700055|      0|     0698|1006597|161424|    23b|    NA|319 077| 32502|       NA|         0|        NA|         1|         1|         1| 17V1.1|         0|3729.78685686|797554.847834|\n",
            "|  5|       3|    BROOKLYN HEIGHTS|        26 OTHER HOTELS|        4|  230|   1|    null|            H8|     21 CLARK STREET|            null|   11201|                0|               1|          1|    20267|    356000|      1927|                4|                    H8| 202500000|2017-10-31|        2017|       BK|302|  3.01|  2000|        13|     33|  11201|    E205|        84|        38|      2300|        3|        02|      1A|   79 WILLOW STREET|       R6|       NA|       NA|       NA|      NA|      NA|     NA|     NA|     NA|     LH-1|        N|       H8|     08|        0|        X|WATCHTOWER C/O RE...|  20267|  356000|  30000|      0|     30000|         0|         0|        0|         0|        0|         2|       1|       15|       0|         1|     202|  100.33|      202|   100.33| NA|       0|         N|      3|       2|   2250000| 27166050|   2250000| 27166050|     1927|      1998|      2000|Brooklyn Heights ...|      NA|   17.57|    2.43|      0|     4.8|       3|3002300001|      0|   000301| 985622|193713|    12d|    NA|302 014| 30106|       NA|         0|        NA|         1|        NA|        NA| 17V1.1|         0|620.761169374|21360.1476315|\n",
            "|  6|       3|  WILLIAMSBURG-SOUTH|   31  COMMERCIAL VA...|        4| 2428|   1|    null|            V1|     329 KENT AVENUE|            null|   11249|                0|               0|          0|    57600|         0|         0|                4|                    V1| 185445000|2012-10-11|        2012|       BK|301|   551|  1009|        14|     33|  11249|    E221|        90|        30|       400|        3|        01|      2B|    325 KENT AVENUE|       R6|       NA|       NA|       NA|    C2-4|      NA|     NA|     NA|     NA|       NA|        N|       D7|     04|        0|       NA|        325 KENT LLC|  57600|  382746|  11200| 371546|      1822|      9378|         0|        0|         0|        0|         2|       1|        0|     522|       525|     180|     320|      179|      315| NA|       0|         N|      3|       5|   3110400|  5579990|         0|        0|     2015|         0|         0|                  NA|      NA|    6.64|    2.43|      0|     4.8|       3|3024280001|      0|     0551| 993500|199202|    12d|    NA|303 007| 30806|    E-337|         0|        NA|         1|        NA|        NA| 17V1.1|         0|1006.33799946|58564.8643115|\n",
            "|  7|       3|    BROOKLYN HEIGHTS|    21 OFFICE BUILDINGS|        4|  250|  44|    null|            O4|     16 COURT STREET|            null|   11241|                0|             102|        102|    12500|    290440|      1928|                4|                    O4|  1.71e+08|2017-10-10|        2017|       BK|302|     9|  1001|        13|     33|  11241|    E205|        84|        38|      2300|        3|        02|      1B|    16 COURT STREET|    C5-2A|       NA|       NA|       NA|      NA|      NA|     DB|     NA|     NA|       NA|        N|       O4|     05|        0|        P|16 COURT STREET O...|  12500|  290440| 290440|      0|    274500|     15940|         0|        0|         0|        0|         2|       1|       37|       0|       102|     100|     125|       92|      125| NA|       0|         Y|      3|       2|   2448000| 28309500|         0| 11304900|     1928|      2009|         0|Borough Hall Skys...|      NA|   23.24|      10|     10|      10|       3|3002500044|      0|     0009| 986784|191977|    12d|    NA|302 018| 30107|       NA|         0|        NA|         1|        NA|        NA| 17V1.1|         0|460.031680123| 12947.145471|\n",
            "|  8|       3|  WILLIAMSBURG-NORTH|   08  RENTALS - ELE...|        2| 2307|   1|    null|            D8|     250 N 10 STREET|            null|   11211|              234|               3|        237|    50173|    241764|      2012|                2|                    D8|  1.69e+08|2015-05-01|        2015|       BK|301|   519|  1006|        14|     33|  11211|    E229|        94|        30|       700|        3|        01|      3B|236 NORTH 10 STREET| M1-2/R6A|       NA|       NA|       NA|      NA|      NA|   MX-8|     NA|     NA|       NA|        N|       D8|     03|        0|        P|BRKLYN NY 250 N 10TH|  50173|  241764|  27900| 213864|      4200|         0|     22200|     1500|         0|        0|         2|       1|        6|     234|       237|  521.25|     200|      500|      100| NA|       1|         N|      1|       2|   1354500| 23965650|    932847| 23543997|     2012|      2012|         0|                  NA|      NA|    4.82|       3|      2|       3|       3|3023070001|      0|     0519| 997307|200618|    13a|    NA|304 018| 30804|    E-138|3023070001|10/08/2013|         1|         1|        NA| 17V1.1|         0|1385.27352839|50772.6248688|\n",
            "|  9|       3|  WILLIAMSBURG-SOUTH|   29  COMMERCIAL GA...|        4| 2128|   5|    null|            G7|     418 KENT AVENUE|            null|   11249|                0|               0|          0|    44704|         0|         0|                4|                    G7|  1.65e+08|2015-02-04|        2015|       BK|301|   549|  2006|        14|     33|  11249|    E221|        90|        30|       500|        3|        01|      4A|    418 KENT AVENUE|     R7-3|     C4-3|       NA|       NA|    C2-4|      NA|     NA|     NA|     NA|       NA|        Y|       D1|     03|        0|       NA| 420 KENT AVENUE LLC|  44704|  463427|   4884| 458543|         0|      4884|         0|        0|         0|        0|         2|       2|       20|     470|       472|  225.08|  281.86|        0|        0| NA|       0|         Y|      5|       5|   1699200|  3534300|         0|        0|     2016|         0|         0|                  NA|      NA|   10.37|       5|      0|       5|       3|3021280005|      0|     0549| 992807|198027|    12d|    NA|303 006| 30801|     R-47|3021280005|10/29/2014|         1|         1|         1| 17V1.1|         0|992.915660585|47019.5677861|\n",
            "| 10|       3|           NAVY YARD|         30  WAREHOUSES|        4| 1876|   1|    null|            E9|        9-47 HALL ST|            null|   11205|                0|               1|          1|   113800|    547000|      1912|                4|                    E9|  1.61e+08|2016-03-04|        2016|       BK|302|   543|  2003|        14|     35|  11205|    L119|        88|        36|      9300|        3|        02|      4E|     39 HALL STREET|     M1-2|       NA|       NA|       NA|      NA|      NA|     NA|     NA|     NA|       NA|        N|       E9|     06|        0|        P|RXR 9-47 HALL STREET| 113800|  547000| 547000|      0|         0|         0|         0|        0|    547000|        0|         2|      13|        8|       0|         1|     569|     204|      304|    80.92| NA|       0|         Y|      3|       5|   1282500| 11295000|         0|        0|     1912|         0|         0|                  NA|      NA|    4.81|       0|      2|     4.8|       3|3018760001|      0|     0543| 993650|193137|    12d|    NA|302 049| 30701|       NA|         0|        NA|         1|        NA|        NA| 17V1.1|         0|1565.91477261|118754.785737|\n",
            "| 11|       3|  WILLIAMSBURG-NORTH|   41 TAX CLASS 4 - ...|        4| 2287|  16|    null|            Z9|  20 NORTH 12 STREET|            null|   11249|                0|               0|          0|    60400|         0|         0|                4|                    Z9|   1.6e+08|2017-04-19|        2017|       BK|301|   557|  2001|        14|     33|  11249|    L106|        94|        30|       400|        3|        01|      NA| 20 NORTH 12 STREET|     M3-1|       NA|       NA|       NA|      NA|      NA|     NA|     NA|     NA|       NA|        N|       Z9|     NA|        0|        P|     10TH STREET LLC|  60400|       0|      0|      0|         0|         0|         0|        0|         0|        0|         7|       1|        0|       0|         0|     302|     200|        0|        0| NA|       0|         N|      5|       5|    504900|   504900|         0|        0|        0|         0|         0|                  NA|      NA|       0|       0|      2|       0|       3|3022870016|      0|     0557| 995151|202986|    12c|    NA|304 003| 30804|    E-138|         0|        NA|         1|         1|         1| 17V1.1|         0|1031.12366578|63814.7107802|\n",
            "| 12|       3|         FORT GREENE|   31  COMMERCIAL VA...|        4| 2094|   1|    null|            V1|          625 FULTON|            null|   11217|                0|               0|          0|    62472|         0|         0|                4|                    V1|  1.58e+08|2016-01-13|        2016|       BK|302|    33|  2003|        13|     35|  11201|    E226|        88|        36|      1200|        3|        02|      1B|  625 FULTON STREET|     C6-4|       NA|       NA|       NA|      NA|      NA|     DB|     NA|     NA|       NA|        N|       V1|     11|        0|        P|    625 FULTON A LLC|  62472|       0|      0|      0|         0|         0|         0|        0|         0|        0|         4|       0|        0|       0|         0|      83|     307|        0|        0| NA|       0|         Y|      5|       5|   2811420|  2811420|         0|        0|        0|         0|         0|                  NA|      NA|       0|      10|     10|      10|       3|3020940001|      0|     0033| 989829|190359|    16c|    NA|302 026| 30706|       NA|3020940001|01/03/2008|         1|        NA|        NA| 17V1.1|         0|1056.81154834|63393.1018337|\n",
            "| 13|       3|DOWNTOWN-FULTON MALL|      11A CONDO-RENTALS|        2|  165|1001|    null|            RR|236 LIVINGSTON ST...|            LIHU|   11201|                8|               3|         11|    18175|      5802|      2009|                2|                    RR| 154250000|2016-12-15|        2016|       NA| NA|    NA|    NA|        NA|     NA|     NA|      NA|        NA|        NA|        NA|       NA|        NA|      NA|                 NA|       NA|       NA|       NA|       NA|      NA|      NA|     NA|     NA|     NA|       NA|       NA|       NA|     NA|       NA|       NA|                  NA|     NA|      NA|     NA|     NA|        NA|        NA|        NA|       NA|        NA|       NA|        NA|      NA|       NA|      NA|        NA|      NA|      NA|       NA|       NA| NA|      NA|        NA|     NA|      NA|        NA|       NA|        NA|       NA|       NA|        NA|        NA|                  NA|      NA|      NA|      NA|     NA|      NA|      NA|        NA|     NA|       NA|     NA|    NA|     NA|    NA|     NA|    NA|       NA|        NA|        NA|        NA|        NA|        NA|     NA|        NA|           NA|           NA|\n",
            "| 14|       3|  DOWNTOWN-METROTECH|    21 OFFICE BUILDINGS|        4|   63|   1|    null|            O6|  55 PROSPECT STREET|            null|   11201|                0|               2|          2|    20704|    253096|      1967|                4|                    O6| 138106368|2017-03-31|        2017|       BK|302|    21|  2029|        13|     33|  11201|    L118|        84|        36|      1000|        3|        02|      1B|   107 ADAMS STREET|     M1-6|       NA|       NA|       NA|      NA|      NA|     NA|     NA|     NA|       NA|        N|       O6|     05|        0|       NA|55 PROSPECT OWNER...|  20704|  253096| 253096|      0|    233705|     19391|         0|        0|         0|        0|         2|       1|       11|       0|         2|  100.75|     206|      100|      205| NA|       2|         Y|      3|       0|    544500| 17237700|         0|        0|     1967|      2014|         0|                  NA|      NA|   12.22|       0|     10|      10|       3|3000630001|      0|     0021| 987524|194630|    12d|    NA|302 015| 30102|       NA|         0|        NA|         1|        NA|        NA| 17V1.1|         0|621.710683646|21360.0301893|\n",
            "| 15|       3|DOWNTOWN-FULTON MALL|   28  COMMERCIAL CO...|        4|  159|1001|    null|            RK|   486 FULTON STREET|           LOWER|   11201|                0|               0|          1|        0|         0|      1920|                4|                    R5| 135212000|2013-12-02|        2013|       NA| NA|    NA|    NA|        NA|     NA|     NA|      NA|        NA|        NA|        NA|       NA|        NA|      NA|                 NA|       NA|       NA|       NA|       NA|      NA|      NA|     NA|     NA|     NA|       NA|       NA|       NA|     NA|       NA|       NA|                  NA|     NA|      NA|     NA|     NA|        NA|        NA|        NA|       NA|        NA|       NA|        NA|      NA|       NA|      NA|        NA|      NA|      NA|       NA|       NA| NA|      NA|        NA|     NA|      NA|        NA|       NA|        NA|       NA|       NA|        NA|        NA|                  NA|      NA|      NA|      NA|     NA|      NA|      NA|        NA|     NA|       NA|     NA|    NA|     NA|    NA|     NA|    NA|       NA|        NA|        NA|        NA|        NA|        NA|     NA|        NA|           NA|           NA|\n",
            "| 16|       3|  DOWNTOWN-METROTECH|        26 OTHER HOTELS|        4|   87|   9|    null|            H8|     90 SANDS STREET|            null|   11201|                0|               1|          1|    21175|    363100|      1992|                4|                    H8|  1.35e+08|2017-08-29|        2017|       BK|302|    13|  2002|        13|     33|  11201|    L118|        84|        36|      1000|        3|        02|      1B|    90 SANDS STREET|     M1-6|       NA|       NA|       NA|      NA|      NA|     NA|     NA|     NA|       NA|        N|       H8|     08|        0|        P|WATCHTOWER C/O RE...|  21175|  363100|  86353|      0|         0|         0|         0|        0|         0|    86353|         2|       1|     28.5|       0|         1|     103|  206.08|      103|   206.08| NA|       0|         N|      3|       5|   5760000| 29519100|   5760000| 29519100|     1992|         0|         0|                  NA|      NA|   17.15|       0|     10|      10|       3|3000870009|      0|     0013| 987811|194154|    12d|    NA|302 030| 30102|       NA|         0|        NA|         1|        NA|        NA| 17V1.1|         0|631.446195613|21861.4184568|\n",
            "| 17|       3|  WILLIAMSBURG-NORTH|   31  COMMERCIAL VA...|        4| 2282|   1|    null|            V1|      19 KENT AVENUE|            null|   11249|                0|               1|          1|    80000|         0|      1920|                4|                    V1| 132400000|2015-12-24|        2015|       BK|301|   557|  2002|        14|     33|  11249|    L106|        94|        30|       400|        3|        01|      1A|     19 KENT AVENUE|     M1-2|       NA|       NA|       NA|      NA|      NA|     NA|     NA|     NA|       NA|        N|       O6|     05|        0|       NA|19 KENT ACQUISITI...|  80000|  626140| 626140|      0|    159000|    243140|         0|        0|         0|   224000|         2|       1|       10|       0|        32|     200|     400|      150|      300| NA|       1|         Y|      1|       2|   3600000|  7826850|         0|        0|     2016|         0|         0|                  NA|      NA|    7.83|       0|      2|     4.8|       3|3022820001|      0|     0557| 995946|202671|    12c|    NA|304 032| 30804|    E-373|3022820001|08/27/2014|         1|         1|         1| 17V1.1|         0|1203.17419264|80813.2531628|\n",
            "| 18|       3|  WILLIAMSBURG-NORTH|   08  RENTALS - ELE...|        2| 2322|  10|    null|            D3|246 NORTH 8TH   S...|            null|   11211|              104|               0|        104|    20000|     88797|      2014|                2|                    D3|  1.25e+08|2016-03-01|        2016|       BK|301|   519|  1009|        14|     33|  11211|    E229|        94|        30|       700|        3|        01|      3B| 246 NORTH 8 STREET| M1-2/R6A|       NA|       NA|       NA|      NA|      NA|   MX-8|     NA|     NA|       NA|        N|       D3|     03|        0|       NA|GS 247 N7TH WILLI...|  20000|   88797|  17609|  71188|         0|         0|     17609|        0|         0|        0|         2|       1|        7|     104|       104|     200|     100|      200|      100| NA|       0|         N|      0|       5|     9e+05| 11085300|         0|  8820264|     2014|      2008|         0|                  NA|      NA|    4.44|       3|      2|       3|       3|3023220010|      0|     0519| 996994|200202|    13a|    NA|304 017| 30804|    E-138|3023220010|02/09/2015|         1|         1|        NA| 17V1.1|         0|608.501487291|20808.0532882|\n",
            "| 19|       3|            CANARSIE|   29  COMMERCIAL GA...|        4| 7920|   1|    null|            G7|  8717 FOSTER AVENUE|            null|   11236|                0|               0|          0|   278821|         0|         0|                4|                    G7|  1.24e+08|2012-12-05|        2012|       BK|318|   960|  1007|        18|     45|  11236|    E310|        69|        33|      7510|        3|        18|      2D| 8717 FOSTER AVENUE|     M1-1|       NA|       NA|       NA|      NA|      NA|     NA|     NA|     NA|       NA|        N|       G7|     10|        0|        P|COLE MT BROOKLYN NY,| 278821|       0|      0|      0|         0|         0|         0|        0|         0|        0|         7|       1|        0|       0|         0|  653.36|  759.05|        0|        0| NA|       0|         Y|      3|       5|   4324950|  4324950|         0|        0|        0|         0|         0|                  NA|      NA|       0|       0|      1|     2.4|       3|3079200001|      0|     0960|1007450|174221|    23a|    NA|317 020| 32401|       NA|3079200007|01/07/2011|         1|        NA|        NA| 17V1.1|         0|5692.27946456|354688.981113|\n",
            "| 20|       3|  DOWNTOWN-METROTECH|    21 OFFICE BUILDINGS|        4|   77|   1|    null|            O6|     77 SANDS STREET|            null|   11201|                0|               5|          5|    14800|    223712|      1962|                4|                    O6| 121313223|2017-03-31|        2017|       BK|302|    13|  2000|        13|     33|  11201|    L118|        84|        36|      1000|        3|        02|      1B|   137 PEARL STREET|     M1-6|       NA|       NA|       NA|      NA|      NA|     NA|     NA|     NA|       NA|        N|       O6|     05|        0|       NA|  77 SANDS OWNER LLC|  14800|  223712| 223712|      0|    206860|     16852|         0|        0|         0|        0|         2|       1|       12|       0|         5|  100.08|     172|      100|      172| NA|       1|         Y|      1|       2|    399600| 15236550|         0|        0|     1962|      2014|         0|                  NA|      NA|   15.12|       0|     10|      10|       3|3000770001|      0|     0013| 987744|194462|    12d|    NA|302 016| 30102|       NA|         0|        NA|         1|        NA|        NA| 17V1.1|         0|530.358672781|16225.6446743|\n",
            "+---+--------+--------------------+-----------------------+---------+-----+----+--------+--------------+--------------------+----------------+--------+-----------------+----------------+-----------+---------+----------+----------+-----------------+----------------------+----------+----------+------------+---------+---+------+------+----------+-------+-------+--------+----------+----------+----------+---------+----------+--------+-------------------+---------+---------+---------+---------+--------+--------+-------+-------+-------+---------+---------+---------+-------+---------+---------+--------------------+-------+--------+-------+-------+----------+----------+----------+---------+----------+---------+----------+--------+---------+--------+----------+--------+--------+---------+---------+---+--------+----------+-------+--------+----------+---------+----------+---------+---------+----------+----------+--------------------+--------+--------+--------+-------+--------+--------+----------+-------+---------+-------+------+-------+------+-------+------+---------+----------+----------+----------+----------+----------+-------+----------+-------------+-------------+\n",
            "only showing top 20 rows\n",
            "\n"
          ],
          "name": "stdout"
        }
      ]
    },
    {
      "cell_type": "markdown",
      "metadata": {
        "id": "uFIiVd98zFgd"
      },
      "source": [
        "Импортируем функции"
      ]
    },
    {
      "cell_type": "code",
      "metadata": {
        "id": "ieuPNw_se6h-"
      },
      "source": [
        "from pyspark.sql import functions as F"
      ],
      "execution_count": null,
      "outputs": []
    },
    {
      "cell_type": "markdown",
      "metadata": {
        "id": "Msyqlk4yzIyp"
      },
      "source": [
        "Задание 1: \"Найдите среднюю площадь жилья (gross_sqft) и выведите новую таблицу, содержащую стоимость жилья и отклонение стоимости от среднего значения\""
      ]
    },
    {
      "cell_type": "markdown",
      "metadata": {
        "id": "CuhZeDcG1amy"
      },
      "source": [
        "Вычислить среднюю площадь жилья можно с помощью функции avg, перед вызовом нужно выбрать столбец gross_sqft и преобразовать дата-фрейм к типу GrouppedData с помощью метода groupBy(). Затем вызвать метод avg, передав в него название столбца, по которому нужно посчитать среднее значение. Затем, с помощью метода collect() дата-фрейм преобразуется в список объектов Row, представляющих строку дата-фрейма. Первым элементом списка окажется словарь и по ключу 'avg' можно получить искомое среднее значение площади жилья. Выведем полученное значение."
      ]
    },
    {
      "cell_type": "code",
      "metadata": {
        "colab": {
          "base_uri": "https://localhost:8080/"
        },
        "id": "a2Ewm_n9Mn6m",
        "outputId": "d0835972-8b12-480b-c94c-abb53dcc8e79"
      },
      "source": [
        "avg_gross_sqft = main_df                    \\\n",
        "    .select('gross_sqft')                   \\\n",
        "    .groupBy()                              \\\n",
        "    .agg(F.avg('gross_sqft').alias('avg'))  \\\n",
        "    .collect()\n",
        "avg_gross_sqft_value = avg_gross_sqft[0]['avg']\n",
        "print(avg_gross_sqft_value)"
      ],
      "execution_count": null,
      "outputs": [
        {
          "output_type": "stream",
          "text": [
            "2970.8766408362603\n"
          ],
          "name": "stdout"
        }
      ]
    },
    {
      "cell_type": "markdown",
      "metadata": {
        "id": "OE5-RwUr48Mn"
      },
      "source": [
        "Вычисление средней стоимости жилья аналогично вычислению средней площади жилья."
      ]
    },
    {
      "cell_type": "markdown",
      "metadata": {
        "id": "Z_7zMZ4F5p2k"
      },
      "source": [
        "Вычисляем среднее значение стоимости жилья."
      ]
    },
    {
      "cell_type": "code",
      "metadata": {
        "colab": {
          "base_uri": "https://localhost:8080/"
        },
        "id": "Bo5N360qM9w8",
        "outputId": "2a6686ad-2bb2-4bd5-b5f0-e79576182c47"
      },
      "source": [
        "avg_sale_price = main_df                    \\\n",
        "    .select('sale_price')                   \\\n",
        "    .groupBy()                              \\\n",
        "    .agg(F.avg('sale_price').alias('avg'))  \\\n",
        "    .collect()\n",
        "avg_sale_price_value = avg_sale_price[0]['avg']\n",
        "print(avg_sale_price_value)"
      ],
      "execution_count": null,
      "outputs": [
        {
          "output_type": "stream",
          "text": [
            "506754.47769281344\n"
          ],
          "name": "stdout"
        }
      ]
    },
    {
      "cell_type": "markdown",
      "metadata": {
        "id": "qj2xSzaO5wgq"
      },
      "source": [
        "Создадим новый дата-фрейм, в котором отобразим стоимость жилья и отклонение стоимости от среднего значения. Для этого в исходном дата-фрейме выберем столбец sale_price, содержащий стоимость жилья и добавим столбец, значениями которого будет разность стоимости и среднего значения стоимости. Отобразим получившийся дата-фрейм."
      ]
    },
    {
      "cell_type": "code",
      "metadata": {
        "colab": {
          "base_uri": "https://localhost:8080/"
        },
        "id": "WBNaNylRNDa0",
        "outputId": "c90593eb-8085-40b7-8523-c747ef7d299d"
      },
      "source": [
        "sale_price_deviation_df = main_df       \\\n",
        "    .select('sale_price')               \\\n",
        "    .withColumn('sale_price_deviation', \\\n",
        "                main_df.sale_price - avg_sale_price_value)\n",
        "sale_price_deviation_df.show()"
      ],
      "execution_count": null,
      "outputs": [
        {
          "output_type": "stream",
          "text": [
            "+----------+--------------------+\n",
            "|sale_price|sale_price_deviation|\n",
            "+----------+--------------------+\n",
            "| 499401179|4.9889442452230716E8|\n",
            "|  3.45e+08|3.4449324552230716E8|\n",
            "|   3.4e+08|3.3949324552230716E8|\n",
            "| 276947000|2.7644024552230716E8|\n",
            "| 202500000| 2.019932455223072E8|\n",
            "| 185445000| 1.849382455223072E8|\n",
            "|  1.71e+08| 1.704932455223072E8|\n",
            "|  1.69e+08| 1.684932455223072E8|\n",
            "|  1.65e+08| 1.644932455223072E8|\n",
            "|  1.61e+08| 1.604932455223072E8|\n",
            "|   1.6e+08| 1.594932455223072E8|\n",
            "|  1.58e+08| 1.574932455223072E8|\n",
            "| 154250000| 1.537432455223072E8|\n",
            "| 138106368| 1.375996135223072E8|\n",
            "| 135212000| 1.347052455223072E8|\n",
            "|  1.35e+08| 1.344932455223072E8|\n",
            "| 132400000|1.3189324552230719E8|\n",
            "|  1.25e+08|1.2449324552230719E8|\n",
            "|  1.24e+08|1.2349324552230719E8|\n",
            "| 121313223|1.2080646852230719E8|\n",
            "+----------+--------------------+\n",
            "only showing top 20 rows\n",
            "\n"
          ],
          "name": "stdout"
        }
      ]
    },
    {
      "cell_type": "markdown",
      "metadata": {
        "id": "885tQuGx6pKY"
      },
      "source": [
        "Задание 2: \"Найдите среднюю площадь жилья (gross_sqft) для каждого года, в котором оно было построено (year_built)\""
      ]
    },
    {
      "cell_type": "markdown",
      "metadata": {
        "id": "UTyxfw-W6yPZ"
      },
      "source": [
        "Выберем столбцы 'gross_sqft' и 'year_built', сгруппируем получивщийся дата-фрейм по столбцу 'year_built' и применим функцию avg. В итоге получим дата-фрейм, содержащий год постройки и среднюю площадь жилья за этот год. Отобразим получивщийся дата-фрейм."
      ]
    },
    {
      "cell_type": "code",
      "metadata": {
        "colab": {
          "base_uri": "https://localhost:8080/"
        },
        "id": "jwmHFgVJNP-s",
        "outputId": "987fd554-fbd9-4279-c62f-11fd1d14de7d"
      },
      "source": [
        "gross_sqft_d_and_year_built_df = main_df                \\\n",
        "    .select(['gross_sqft', 'year_built'])               \\\n",
        "    .groupBy('year_built')                              \\\n",
        "    .agg(F.avg('gross_sqft').alias('avg_gross_sqft'))   \\\n",
        "    .orderBy(F.desc('year_built'))\n",
        "gross_sqft_d_and_year_built_df.show()"
      ],
      "execution_count": null,
      "outputs": [
        {
          "output_type": "stream",
          "text": [
            "+----------+------------------+\n",
            "|year_built|    avg_gross_sqft|\n",
            "+----------+------------------+\n",
            "|      2017| 3290.056603773585|\n",
            "|      2016|1495.8328220858896|\n",
            "|      2015|3419.7989172467132|\n",
            "|      2014|3222.1512605042017|\n",
            "|      2013| 3545.206660973527|\n",
            "|      2012|          2775.272|\n",
            "|      2011|4290.2784431137725|\n",
            "|      2010| 4350.191562143672|\n",
            "|      2009| 4251.070020005716|\n",
            "|      2008|3004.8798000454444|\n",
            "|      2007| 2283.872844058523|\n",
            "|      2006|2155.3391670717874|\n",
            "|      2005| 2645.361133090679|\n",
            "|      2004|2432.5135473113796|\n",
            "|      2003| 1531.779675994109|\n",
            "|      2002|2252.2347520842477|\n",
            "|      2001| 3749.083408071749|\n",
            "|      2000| 3741.164341085271|\n",
            "|      1999| 3898.143790849673|\n",
            "|      1998| 2928.172344689379|\n",
            "+----------+------------------+\n",
            "only showing top 20 rows\n",
            "\n"
          ],
          "name": "stdout"
        }
      ]
    },
    {
      "cell_type": "markdown",
      "metadata": {
        "id": "gyFvMnLy8RQk"
      },
      "source": [
        "Задание 3: \"Найдите среднюю стоимость жилья (sale_price) для всех сочетаний соседств (neighborhood) и категорий класса здания (building_class_category)\""
      ]
    },
    {
      "cell_type": "markdown",
      "metadata": {
        "id": "wjz6lCan8aa4"
      },
      "source": [
        "Выберем необходимые столбцы: 'sale_price', 'neighborhood', 'building_class_category'. Сгруппируем получивщийся дата-фрейм по столбцам 'neighborhood' и 'building_class_category' для получения необходимых сочетаний в виде групп и применим к ним функцию avg. В итоге получим дата-фрейм согласно заданию. Отобразим получивщийся дата-фрейм."
      ]
    },
    {
      "cell_type": "code",
      "metadata": {
        "colab": {
          "base_uri": "https://localhost:8080/"
        },
        "id": "yiG5vq1fkcwZ",
        "outputId": "cbd6f1a4-6f49-4acd-8776-23aa0e22b855"
      },
      "source": [
        "sale_price_group_df = main_df                                           \\\n",
        "    .select(['sale_price', 'neighborhood', 'building_class_category'])  \\\n",
        "    .groupBy(['neighborhood', 'building_class_category'])               \\\n",
        "    .agg(F.avg('sale_price').alias('avg_sale_price'))                   \\\n",
        "    .orderBy(F.desc('avg_sale_price'))\n",
        "sale_price_group_df.show()"
      ],
      "execution_count": null,
      "outputs": [
        {
          "output_type": "stream",
          "text": [
            "+--------------------+-----------------------+-------------------+\n",
            "|        neighborhood|building_class_category|     avg_sale_price|\n",
            "+--------------------+-----------------------+-------------------+\n",
            "|    BROOKLYN HEIGHTS|     23  LOFT BUILDINGS|           2.0502E8|\n",
            "|    BROOKLYN HEIGHTS|        26 OTHER HOTELS|             1.45E8|\n",
            "|          MILL BASIN|    22  STORE BUILDINGS|         1.384735E8|\n",
            "|  DOWNTOWN-METROTECH|        26 OTHER HOTELS|             1.35E8|\n",
            "|    BROOKLYN HEIGHTS|    21 OFFICE BUILDINGS|             9.45E7|\n",
            "|    BROOKLYN-UNKNOWN|   21  OFFICE BUILDINGS|              9.0E7|\n",
            "|DOWNTOWN-FULTON MALL|       45  CONDO HOTELS|              8.8E7|\n",
            "|DOWNTOWN-FULTON F...|   35  INDOOR PUBLIC...|              6.5E7|\n",
            "|  WILLIAMSBURG-SOUTH|   46  CONDO STORE B...|              5.9E7|\n",
            "|            CANARSIE|          30 WAREHOUSES|              5.3E7|\n",
            "|       BUSH TERMINAL|   39  TRANSPORTATIO...|        4.8327118E7|\n",
            "|    BROOKLYN HEIGHTS|       26  OTHER HOTELS|         4.720625E7|\n",
            "|  DOWNTOWN-METROTECH|    21 OFFICE BUILDINGS|4.648565990909091E7|\n",
            "|DOWNTOWN-FULTON MALL|   43  CONDO OFFICE ...|        4.2172909E7|\n",
            "|        SPRING CREEK|   41  TAX CLASS 4 -...|            3.999E7|\n",
            "|           NAVY YARD|   08  RENTALS - ELE...|          3.81552E7|\n",
            "|    BROOKLYN HEIGHTS|      11A CONDO-RENTALS|             3.63E7|\n",
            "|         BOERUM HILL|   31 COMMERCIAL VAC...|              3.6E7|\n",
            "|         FORT GREENE|     22 STORE BUILDINGS|          3.48375E7|\n",
            "|          KENSINGTON|   08 RENTALS - ELEV...|              3.3E7|\n",
            "+--------------------+-----------------------+-------------------+\n",
            "only showing top 20 rows\n",
            "\n"
          ],
          "name": "stdout"
        }
      ]
    },
    {
      "cell_type": "markdown",
      "metadata": {
        "id": "L6_djUKT9FQx"
      },
      "source": [
        "Задание 4: \"В исходном датафрейме удалите все строчки с записями домов, которые были построены позже 2000 года (year_built), а также те, которые содержат только нулевые значения\""
      ]
    },
    {
      "cell_type": "markdown",
      "metadata": {
        "id": "7IhHrdEF9OqD"
      },
      "source": [
        "К исходному дата-фрейму добавим столбец, содержащий год постройки жилья виде целых чисел. Это необходимо для сравнения, поскольку год постройки в исходном дата-фрейме представлен в виде строки. Затем, сделаем выборку с условием \"год постройки\" меньше 2000 или не равен 0. Выведем получившийся дата-фрейм."
      ]
    },
    {
      "cell_type": "code",
      "metadata": {
        "colab": {
          "base_uri": "https://localhost:8080/"
        },
        "id": "EbeQIpi9stGP",
        "outputId": "6052777f-4fb3-4849-fd84-25eea49a3230"
      },
      "source": [
        "year_built_lt_2000_and_not_null_df = main_df                                \\\n",
        "    .withColumn('year_built_i', main_df['year_built'].cast('int'))          \\\n",
        "    .where(F.col('year_built_i') < 2000)                                    \\\n",
        "    .where(F.col('year_built_i') != 0)                                      \\\n",
        "    .drop('year_built_i')\n",
        "year_built_lt_2000_and_not_null_df.show()"
      ],
      "execution_count": null,
      "outputs": [
        {
          "output_type": "stream",
          "text": [
            "+---+--------+--------------------+-----------------------+---------+-----+----+--------+--------------+--------------------+----------------+--------+-----------------+----------------+-----------+---------+----------+----------+-----------------+----------------------+----------+----------+------------+---------+---+------+------+----------+-------+-------+--------+----------+----------+----------+---------+----------+--------+--------------------+---------+---------+---------+---------+--------+--------+-------+-------+-------+---------+---------+---------+-------+---------+---------+--------------------+-------+--------+-------+-------+----------+----------+----------+---------+----------+---------+----------+--------+---------+--------+----------+--------+--------+---------+---------+---+--------+----------+-------+--------+----------+---------+----------+---------+---------+----------+----------+--------------------+--------+--------+--------+-------+--------+--------+----------+-------+---------+-------+------+-------+------+-------+------+---------+----------+----------+----------+----------+----------+-------+----------+-------------+-------------+\n",
            "|_c0|borough1|        neighborhood|building_class_category|tax_class|block| lot|easement|building_class|            address9|apartment_number|zip_code|residential_units|commercial_units|total_units|land_sqft|gross_sqft|year_built|tax_class_at_sale|building_class_at_sale|sale_price| sale_date|year_of_sale|Borough23| CD|CT2010|CB2010|SchoolDist|Council|ZipCode|FireComp|PolicePrct|HealthCent|HealthArea|SanitBoro|SanitDistr|SanitSub|           Address37|ZoneDist1|ZoneDist2|ZoneDist3|ZoneDist4|Overlay1|Overlay2|SPDist1|SPDist2|SPDist3|LtdHeight|SplitZone|BldgClass|LandUse|Easements|OwnerType|           OwnerName|LotArea|BldgArea|ComArea|ResArea|OfficeArea|RetailArea|GarageArea|StrgeArea|FactryArea|OtherArea|AreaSource|NumBldgs|NumFloors|UnitsRes|UnitsTotal|LotFront|LotDepth|BldgFront|BldgDepth|Ext|ProxCode|IrrLotCode|LotType|BsmtCode|AssessLand|AssessTot|ExemptLand|ExemptTot|YearBuilt|YearAlter1|YearAlter2|            HistDist|Landmark|BuiltFAR|ResidFAR|CommFAR|FacilFAR|BoroCode|       BBL|CondoNo|Tract2010| XCoord|YCoord|ZoneMap|ZMCode|Sanborn|TaxMap|EDesigNum|    APPBBL|   APPDate|PLUTOMapID|FIRM07_FLA|PFIRM15_FL|Version|MAPPLUTO_F|   SHAPE_Leng|   SHAPE_Area|\n",
            "+---+--------+--------------------+-----------------------+---------+-----+----+--------+--------------+--------------------+----------------+--------+-----------------+----------------+-----------+---------+----------+----------+-----------------+----------------------+----------+----------+------------+---------+---+------+------+----------+-------+-------+--------+----------+----------+----------+---------+----------+--------+--------------------+---------+---------+---------+---------+--------+--------+-------+-------+-------+---------+---------+---------+-------+---------+---------+--------------------+-------+--------+-------+-------+----------+----------+----------+---------+----------+---------+----------+--------+---------+--------+----------+--------+--------+---------+---------+---+--------+----------+-------+--------+----------+---------+----------+---------+---------+----------+----------+--------------------+--------+--------+--------+-------+--------+--------+----------+-------+---------+-------+------+-------+------+-------+------+---------+----------+----------+----------+----------+----------+-------+----------+-------------+-------------+\n",
            "|  3|       3|    BROOKLYN HEIGHTS|   21  OFFICE BUILDINGS|        4|  204|   1|    null|            O6| 29 COLUMBIA HEIGHTS|            null|   11201|                0|               0|          0|    32000|    304650|      1924|                4|                    O6|   3.4e+08|2016-08-03|        2016|       BK|302|     1|  1003|        13|     33|  11201|    E205|        84|        38|      2300|        3|        02|      1A| 29 COLUMBIA HEIGHTS|     M2-1|       NA|       NA|       NA|      NA|      NA|     NA|     NA|     NA|       NA|        N|       O6|     05|        0|       NA|25-30 COLUMBIA HE...|  32000|  304650| 304650|      0|    264750|         0|         0|        0|         0|    39900|         2|       1|       13|       0|         0|   92.42|  335.92|      335|       92| NA|       0|         Y|      3|       5|   1548000| 25463250|         0|        0|     1924|      1980|         0|                  NA|      NA|    9.52|       0|      2|       0|       3|3002040001|      0|     0001| 985952|195007|    12d|    NA|302 004| 30106|       NA|         0|        NA|         1|        NA|        NA| 17V1.1|         0|890.718521021|34656.4472405|\n",
            "|  4|       3|          MILL BASIN|    22  STORE BUILDINGS|        4| 8470|  55|    null|            K6|       5120 AVENUE U|            null|   11234|                0|             123|        123|   905000|   2548000|      1970|                4|                    K6| 276947000|2012-11-28|        2012|       BK|318|   698|  2005|        22|     46|  11234|    E323|        63|        35|      8822|        3|        18|      4E|       5120 AVENUE U|     M3-1|       NA|       NA|       NA|      NA|      NA|     NA|     NA|     NA|       NA|        N|       K6|     05|        1|       NA|BROOKLYN KINGS PLAZA| 905000| 2548000|2548000|      0|         0|   1263000|   1285000|        0|         0|        0|         2|       4|        2|       0|       123|     930|     859|        0|        0| NA|       0|         Y|      3|       5|  36532350|149792400|         0|        0|     1970|         0|         0|                  NA|      NA|    2.82|       0|      2|       0|       3|3084700055|      0|     0698|1006597|161424|    23b|    NA|319 077| 32502|       NA|         0|        NA|         1|         1|         1| 17V1.1|         0|3729.78685686|797554.847834|\n",
            "|  5|       3|    BROOKLYN HEIGHTS|        26 OTHER HOTELS|        4|  230|   1|    null|            H8|     21 CLARK STREET|            null|   11201|                0|               1|          1|    20267|    356000|      1927|                4|                    H8| 202500000|2017-10-31|        2017|       BK|302|  3.01|  2000|        13|     33|  11201|    E205|        84|        38|      2300|        3|        02|      1A|    79 WILLOW STREET|       R6|       NA|       NA|       NA|      NA|      NA|     NA|     NA|     NA|     LH-1|        N|       H8|     08|        0|        X|WATCHTOWER C/O RE...|  20267|  356000|  30000|      0|     30000|         0|         0|        0|         0|        0|         2|       1|       15|       0|         1|     202|  100.33|      202|   100.33| NA|       0|         N|      3|       2|   2250000| 27166050|   2250000| 27166050|     1927|      1998|      2000|Brooklyn Heights ...|      NA|   17.57|    2.43|      0|     4.8|       3|3002300001|      0|   000301| 985622|193713|    12d|    NA|302 014| 30106|       NA|         0|        NA|         1|        NA|        NA| 17V1.1|         0|620.761169374|21360.1476315|\n",
            "|  7|       3|    BROOKLYN HEIGHTS|    21 OFFICE BUILDINGS|        4|  250|  44|    null|            O4|     16 COURT STREET|            null|   11241|                0|             102|        102|    12500|    290440|      1928|                4|                    O4|  1.71e+08|2017-10-10|        2017|       BK|302|     9|  1001|        13|     33|  11241|    E205|        84|        38|      2300|        3|        02|      1B|     16 COURT STREET|    C5-2A|       NA|       NA|       NA|      NA|      NA|     DB|     NA|     NA|       NA|        N|       O4|     05|        0|        P|16 COURT STREET O...|  12500|  290440| 290440|      0|    274500|     15940|         0|        0|         0|        0|         2|       1|       37|       0|       102|     100|     125|       92|      125| NA|       0|         Y|      3|       2|   2448000| 28309500|         0| 11304900|     1928|      2009|         0|Borough Hall Skys...|      NA|   23.24|      10|     10|      10|       3|3002500044|      0|     0009| 986784|191977|    12d|    NA|302 018| 30107|       NA|         0|        NA|         1|        NA|        NA| 17V1.1|         0|460.031680123| 12947.145471|\n",
            "| 10|       3|           NAVY YARD|         30  WAREHOUSES|        4| 1876|   1|    null|            E9|        9-47 HALL ST|            null|   11205|                0|               1|          1|   113800|    547000|      1912|                4|                    E9|  1.61e+08|2016-03-04|        2016|       BK|302|   543|  2003|        14|     35|  11205|    L119|        88|        36|      9300|        3|        02|      4E|      39 HALL STREET|     M1-2|       NA|       NA|       NA|      NA|      NA|     NA|     NA|     NA|       NA|        N|       E9|     06|        0|        P|RXR 9-47 HALL STREET| 113800|  547000| 547000|      0|         0|         0|         0|        0|    547000|        0|         2|      13|        8|       0|         1|     569|     204|      304|    80.92| NA|       0|         Y|      3|       5|   1282500| 11295000|         0|        0|     1912|         0|         0|                  NA|      NA|    4.81|       0|      2|     4.8|       3|3018760001|      0|     0543| 993650|193137|    12d|    NA|302 049| 30701|       NA|         0|        NA|         1|        NA|        NA| 17V1.1|         0|1565.91477261|118754.785737|\n",
            "| 14|       3|  DOWNTOWN-METROTECH|    21 OFFICE BUILDINGS|        4|   63|   1|    null|            O6|  55 PROSPECT STREET|            null|   11201|                0|               2|          2|    20704|    253096|      1967|                4|                    O6| 138106368|2017-03-31|        2017|       BK|302|    21|  2029|        13|     33|  11201|    L118|        84|        36|      1000|        3|        02|      1B|    107 ADAMS STREET|     M1-6|       NA|       NA|       NA|      NA|      NA|     NA|     NA|     NA|       NA|        N|       O6|     05|        0|       NA|55 PROSPECT OWNER...|  20704|  253096| 253096|      0|    233705|     19391|         0|        0|         0|        0|         2|       1|       11|       0|         2|  100.75|     206|      100|      205| NA|       2|         Y|      3|       0|    544500| 17237700|         0|        0|     1967|      2014|         0|                  NA|      NA|   12.22|       0|     10|      10|       3|3000630001|      0|     0021| 987524|194630|    12d|    NA|302 015| 30102|       NA|         0|        NA|         1|        NA|        NA| 17V1.1|         0|621.710683646|21360.0301893|\n",
            "| 15|       3|DOWNTOWN-FULTON MALL|   28  COMMERCIAL CO...|        4|  159|1001|    null|            RK|   486 FULTON STREET|           LOWER|   11201|                0|               0|          1|        0|         0|      1920|                4|                    R5| 135212000|2013-12-02|        2013|       NA| NA|    NA|    NA|        NA|     NA|     NA|      NA|        NA|        NA|        NA|       NA|        NA|      NA|                  NA|       NA|       NA|       NA|       NA|      NA|      NA|     NA|     NA|     NA|       NA|       NA|       NA|     NA|       NA|       NA|                  NA|     NA|      NA|     NA|     NA|        NA|        NA|        NA|       NA|        NA|       NA|        NA|      NA|       NA|      NA|        NA|      NA|      NA|       NA|       NA| NA|      NA|        NA|     NA|      NA|        NA|       NA|        NA|       NA|       NA|        NA|        NA|                  NA|      NA|      NA|      NA|     NA|      NA|      NA|        NA|     NA|       NA|     NA|    NA|     NA|    NA|     NA|    NA|       NA|        NA|        NA|        NA|        NA|        NA|     NA|        NA|           NA|           NA|\n",
            "| 16|       3|  DOWNTOWN-METROTECH|        26 OTHER HOTELS|        4|   87|   9|    null|            H8|     90 SANDS STREET|            null|   11201|                0|               1|          1|    21175|    363100|      1992|                4|                    H8|  1.35e+08|2017-08-29|        2017|       BK|302|    13|  2002|        13|     33|  11201|    L118|        84|        36|      1000|        3|        02|      1B|     90 SANDS STREET|     M1-6|       NA|       NA|       NA|      NA|      NA|     NA|     NA|     NA|       NA|        N|       H8|     08|        0|        P|WATCHTOWER C/O RE...|  21175|  363100|  86353|      0|         0|         0|         0|        0|         0|    86353|         2|       1|     28.5|       0|         1|     103|  206.08|      103|   206.08| NA|       0|         N|      3|       5|   5760000| 29519100|   5760000| 29519100|     1992|         0|         0|                  NA|      NA|   17.15|       0|     10|      10|       3|3000870009|      0|     0013| 987811|194154|    12d|    NA|302 030| 30102|       NA|         0|        NA|         1|        NA|        NA| 17V1.1|         0|631.446195613|21861.4184568|\n",
            "| 17|       3|  WILLIAMSBURG-NORTH|   31  COMMERCIAL VA...|        4| 2282|   1|    null|            V1|      19 KENT AVENUE|            null|   11249|                0|               1|          1|    80000|         0|      1920|                4|                    V1| 132400000|2015-12-24|        2015|       BK|301|   557|  2002|        14|     33|  11249|    L106|        94|        30|       400|        3|        01|      1A|      19 KENT AVENUE|     M1-2|       NA|       NA|       NA|      NA|      NA|     NA|     NA|     NA|       NA|        N|       O6|     05|        0|       NA|19 KENT ACQUISITI...|  80000|  626140| 626140|      0|    159000|    243140|         0|        0|         0|   224000|         2|       1|       10|       0|        32|     200|     400|      150|      300| NA|       1|         Y|      1|       2|   3600000|  7826850|         0|        0|     2016|         0|         0|                  NA|      NA|    7.83|       0|      2|     4.8|       3|3022820001|      0|     0557| 995946|202671|    12c|    NA|304 032| 30804|    E-373|3022820001|08/27/2014|         1|         1|         1| 17V1.1|         0|1203.17419264|80813.2531628|\n",
            "| 20|       3|  DOWNTOWN-METROTECH|    21 OFFICE BUILDINGS|        4|   77|   1|    null|            O6|     77 SANDS STREET|            null|   11201|                0|               5|          5|    14800|    223712|      1962|                4|                    O6| 121313223|2017-03-31|        2017|       BK|302|    13|  2000|        13|     33|  11201|    L118|        84|        36|      1000|        3|        02|      1B|    137 PEARL STREET|     M1-6|       NA|       NA|       NA|      NA|      NA|     NA|     NA|     NA|       NA|        N|       O6|     05|        0|       NA|  77 SANDS OWNER LLC|  14800|  223712| 223712|      0|    206860|     16852|         0|        0|         0|        0|         2|       1|       12|       0|         5|  100.08|     172|      100|      172| NA|       1|         Y|      1|       2|    399600| 15236550|         0|        0|     1962|      2014|         0|                  NA|      NA|   15.12|       0|     10|      10|       3|3000770001|      0|     0013| 987744|194462|    12d|    NA|302 016| 30102|       NA|         0|        NA|         1|        NA|        NA| 17V1.1|         0|530.358672781|16225.6446743|\n",
            "| 21|       3|          GREENPOINT|         30  WAREHOUSES|        4| 2530|   1|    null|            E1|     155 WEST STREET|            null|   11222|                0|               2|          2|   208426|     95000|      1971|                4|                    E1|   1.2e+08|2014-08-08|        2014|       BK|301|   563|  1010|        14|     33|  11222|    L106|        94|        30|       100|        3|        01|      1B|     155 WEST STREET|       R8|       R6|       NA|       NA|    C2-4|      NA|     NA|     NA|     NA|       NA|        Y|       D7|     04|        1|        P|19 INDIA FEE OWNE...|  32836|  170382|  52752| 117630|         0|     10646|         0|        0|         0|    42106|         2|       1|        6|     140|       142|     230|    1067|        0|        0| NA|       2|         Y|      3|       2|   1477800|  9531089|         0|        0|     2016|         0|         0|                  NA|      NA|    5.19|    6.02|      0|     6.5|       3|3025300001|      0|     0563| 995321|206028|    12c|    NA|304 007| 30901|    E-138|3025300001|03/28/2016|         1|         1|         1| 17V1.1|         0|732.053790674|33139.2698902|\n",
            "| 22|       3|DOWNTOWN-FULTON MALL|   43  CONDO OFFICE ...|        4|  156|1202|    null|            RB|   422 FULTON STREET|             TS1|   11201|                0|               0|          1|        0|         0|      1920|                4|                    RB| 117037454|2016-01-28|        2016|       NA| NA|    NA|    NA|        NA|     NA|     NA|      NA|        NA|        NA|        NA|       NA|        NA|      NA|                  NA|       NA|       NA|       NA|       NA|      NA|      NA|     NA|     NA|     NA|       NA|       NA|       NA|     NA|       NA|       NA|                  NA|     NA|      NA|     NA|     NA|        NA|        NA|        NA|       NA|        NA|       NA|        NA|      NA|       NA|      NA|        NA|      NA|      NA|       NA|       NA| NA|      NA|        NA|     NA|      NA|        NA|       NA|        NA|       NA|       NA|        NA|        NA|                  NA|      NA|      NA|      NA|     NA|      NA|      NA|        NA|     NA|       NA|     NA|    NA|     NA|    NA|     NA|    NA|       NA|        NA|        NA|        NA|        NA|        NA|     NA|        NA|           NA|           NA|\n",
            "| 24|       3|    BROOKLYN HEIGHTS|   21  OFFICE BUILDINGS|        4|  250|  44|    null|            O3|     16 COURT STREET|            null|   11201|                0|               3|          3|    12500|    290440|      1928|                4|                    O3| 107500000|2007-07-18|        2007|       BK|302|     9|  1001|        13|     33|  11241|    E205|        84|        38|      2300|        3|        02|      1B|     16 COURT STREET|    C5-2A|       NA|       NA|       NA|      NA|      NA|     DB|     NA|     NA|       NA|        N|       O4|     05|        0|        P|16 COURT STREET O...|  12500|  290440| 290440|      0|    274500|     15940|         0|        0|         0|        0|         2|       1|       37|       0|       102|     100|     125|       92|      125| NA|       0|         Y|      3|       2|   2448000| 28309500|         0| 11304900|     1928|      2009|         0|Borough Hall Skys...|      NA|   23.24|      10|     10|      10|       3|3002500044|      0|     0009| 986784|191977|    12d|    NA|302 018| 30107|       NA|         0|        NA|         1|        NA|        NA| 17V1.1|         0|460.031680123| 12947.145471|\n",
            "| 25|       3|    BROOKLYN HEIGHTS|       26  OTHER HOTELS|        4|  208| 106|    null|            H8|122 COLUMBIA HEIGHTS|            null|   11201|               74|               0|         74|     7554|     36750|      1927|                4|                    H8|  1.05e+08|2016-04-26|        2016|       BK|302|     1|  1014|        13|     33|  11201|    E205|        84|        38|      2300|        3|        02|      1A|122 COLUMBIA HEIGHTS|       R6|       NA|       NA|       NA|      NA|      NA|     NA|     NA|     NA|     LH-1|        N|       H8|     08|        1|       NA|EASTERN DIVISION LLC|   7554|   36750|      0|      0|         0|         0|         0|        0|         0|        0|         2|       1|        7|      74|        74|   75.67|   99.83|       75|       70| NA|       0|         N|      5|       5|   2025000|  3874050|         0|        0|     1927|      2002|         0|Brooklyn Heights ...|      NA|    4.86|    2.43|      0|     4.8|       3|3002080106|      0|     0001| 985359|194146|    12d|    NA|302 014| 30106|       NA|         0|        NA|         1|        NA|        NA| 17V1.1|         0|368.547595918|8242.63716307|\n",
            "| 27|       3|  DOWNTOWN-METROTECH|    21 OFFICE BUILDINGS|        4|   87|   5|    null|            O6|    175 PEARL STREET|            null|   11201|                0|               3|          3|    21218|    210488|      1918|                4|                    O6| 102873750|2017-03-31|        2017|       BK|302|    13|  2002|        13|     33|  11201|    L118|        84|        36|      1000|        3|        02|      1B|    175 PEARL STREET|     M1-6|       NA|       NA|       NA|      NA|      NA|     NA|     NA|     NA|       NA|        N|       O6|     05|        0|       NA| 175 PEARL OWNER LLC|  21218|  210488| 210488|      0|    190398|     13490|      6600|        0|         0|        0|         2|       2|        8|       0|         3|  205.08|  103.08|      202|       98| NA|       2|         N|      3|       0|    495000| 14335650|         0|        0|     1918|      1987|      2014|                  NA|      NA|    9.92|       0|     10|      10|       3|3000870005|      0|     0013| 987708|194159|    12d|    NA|302 030| 30102|       NA|         0|        NA|         1|        NA|        NA| 17V1.1|         0|635.147431624|22260.1622051|\n",
            "| 28|       3|         BROWNSVILLE|   07  RENTALS - WAL...|        2| 3559|   1|    null|            C9|  231 CHESTER STREET|            null|   11212|               32|               0|         32|    26000|     35200|      1975|                2|                    C9|  98676252|2014-12-16|        2014|       BK|316|   924|  2004|        23|     41|  11212|    L120|        73|        33|      5900|        3|        16|      2A|  231 CHESTER STREET|       R6|       NA|       NA|       NA|      NA|      NA|     NA|     NA|     NA|       NA|        N|       C9|     02|        0|        P|HP MARCUS GARVEY ...|  26000|   35200|      0|  35200|         0|         0|         0|        0|         0|        0|         2|       1|        3|      32|        32|     200|     130|      200|       44| NA|       0|         N|      3|       1|    111150|   566550|    111150|   566550|     1975|         0|         0|                  NA|      NA|    1.35|    2.43|      0|     4.8|       3|3035590001|      0|     0924|1009001|181255|    17d|    NA|316 054| 31202|       NA|         0|        NA|         1|        NA|        NA| 17V1.1|         0|686.018193592|28198.8228382|\n",
            "| 29|       3|  DOWNTOWN-METROTECH|    21 OFFICE BUILDINGS|        4|   76|   1|    null|            O6|    117 ADAMS STREET|            null|   11201|                0|               2|          2|    20600|    181576|      1926|                4|                    O6|  98463962|2017-03-31|        2017|       BK|302|    13|  2001|        13|     33|  11201|    L118|        84|        36|      1000|        3|        02|      1B|  64 PROSPECT STREET|     M1-6|       NA|       NA|       NA|      NA|      NA|     NA|     NA|     NA|       NA|        N|       O6|     05|        0|       NA| 117 ADAMS OWNER LLC|  20600|  181576| 181576|      0|    150334|     31242|         0|        0|         0|        0|         2|       1|        8|       0|         2|     100|     206|       90|     97.5| NA|       0|         Y|      3|       5|    556200| 12366900|         0|        0|     1926|      2014|         0|                  NA|      NA|    8.81|       0|     10|      10|       3|3000760001|      0|     0013| 987516|194475|    12d|    NA|302 015| 30102|       NA|         0|        NA|         1|        NA|        NA| 17V1.1|         0|633.876660363|22634.6137514|\n",
            "| 30|       3|        CONEY ISLAND|   35  INDOOR PUBLIC...|        4| 8696| 212|    null|            P6| 1001 BOARDWALK WEST|            null|   11235|                0|               3|          3|   138155|     30000|      1965|                4|                    P6|  95600000|2009-12-16|        2009|       BK|313|   352|  1002|        21|     47|  11224|    E245|        60|        37|      9020|        3|        13|      2B| 1001 BOARDWALK WEST|       C7|       NA|       NA|       NA|      NA|      NA|     CI|     NA|     NA|       NA|        N|       P6|     09|        0|        O|NYC ECONOMIC DEVE...| 140466|   30000|  30000|      0|         0|     30000|         0|        0|         0|        0|         2|       9|        1|       0|         3|   200.5|  674.33|      200|      600| NA|       0|         N|      5|       5|   1272600|  1729800|         0|        0|     1965|         0|         0|                  NA|      NA|    0.21|       0|      2|       0|       3|3086960212|      0|     0352| 990223|148532|    28d|    NA|318 058| 32601|       NA|         0|        NA|         1|         1|         1| 17V1.1|         0|1794.38084722|136762.368588|\n",
            "| 31|       3|  WILLIAMSBURG-NORTH|   08  RENTALS - ELE...|        2| 2350|  26|    null|            D5|103 NORTH 3RD STREET|            null|   11249|               40|              12|         52|    36511|    101358|      1920|                2|                    D5|  92250000|2015-04-30|        2015|       BK|301|   555|  1009|        14|     34|  11249|    E221|        94|        30|       400|        3|        01|      2B|  103 NORTH 3 STREET| M1-2/R6A|       NA|       NA|       NA|      NA|      NA|   MX-8|     NA|     NA|       NA|        N|       D5|     03|        0|       NA|LENY BERRY HOLDIN...|  36511|  101358|  58284|  43074|         0|      7942|         0|        0|     26247|        0|         2|       7|        1|      40|        52|   225.5|     162|       40|      225|  E|       0|         N|      3|       5|    216450|  7596450|         0|  6907373|     1920|      2005|      2009|                  NA|      NA|    2.78|       3|      2|       3|       3|3023500026|      0|     0555| 994901|200448|    12c|    NA|304 012| 30804|    E-138|3023500026|05/19/2009|         1|        NA|        NA| 17V1.1|         0| 774.13949243|36492.7553323|\n",
            "| 32|       3|       BUSH TERMINAL|         30  WAREHOUSES|        4|  635|  13|    null|            E1| 75-81 20TH   STREET|            null|   11232|                0|              32|         32|   690000|    292886|      1930|                4|                    E1|  91500000|2013-08-29|        2013|       BK|307|    18|  1005|        15|     38|  11232|    L122|        72|        39|      4400|        3|        07|      2C|        75 20 STREET|     M3-1|       NA|       NA|       NA|      NA|      NA|     NA|     NA|     NA|       NA|        N|       E1|     06|        0|        M|601 SUNSET OWNER LLC| 690000|  292886| 292886|      0|     12371|         0|         0|        0|    280515|        0|         2|       6|        1|       0|        32|     880|  160.33|      635|      130| NA|       0|         Y|      5|       5|   6866550| 18301950|         0|  1865508|     1930|      1985|      2000|                  NA|      NA|    0.42|       0|      2|       0|       3|3006350013|      0|     0018| 984060|181965|    16d|     Y|301 044| 30301|       NA|3006350013|01/06/1997|         1|         1|         1| 17V1.1|         0|4030.46516345|575992.817789|\n",
            "+---+--------+--------------------+-----------------------+---------+-----+----+--------+--------------+--------------------+----------------+--------+-----------------+----------------+-----------+---------+----------+----------+-----------------+----------------------+----------+----------+------------+---------+---+------+------+----------+-------+-------+--------+----------+----------+----------+---------+----------+--------+--------------------+---------+---------+---------+---------+--------+--------+-------+-------+-------+---------+---------+---------+-------+---------+---------+--------------------+-------+--------+-------+-------+----------+----------+----------+---------+----------+---------+----------+--------+---------+--------+----------+--------+--------+---------+---------+---+--------+----------+-------+--------+----------+---------+----------+---------+---------+----------+----------+--------------------+--------+--------+--------+-------+--------+--------+----------+-------+---------+-------+------+-------+------+-------+------+---------+----------+----------+----------+----------+----------+-------+----------+-------------+-------------+\n",
            "only showing top 20 rows\n",
            "\n"
          ],
          "name": "stdout"
        }
      ]
    }
  ]
}